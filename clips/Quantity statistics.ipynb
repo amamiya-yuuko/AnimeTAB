{
 "cells": [
  {
   "cell_type": "code",
   "execution_count": 1,
   "id": "f811ce33-b403-4605-ae43-c89c4ab13cad",
   "metadata": {},
   "outputs": [],
   "source": [
    "import numpy as np\n",
    "import matplotlib.pyplot as plt\n",
    "from xml.dom import minidom\n",
    "from xml.dom.minidom import parse\n",
    "import os"
   ]
  },
  {
   "cell_type": "code",
   "execution_count": 2,
   "id": "d4afacbf-e890-447d-997e-116840563d09",
   "metadata": {},
   "outputs": [],
   "source": [
    "XML_files = os.listdir(os.getcwd())\n",
    "XML_files = [file for file in XML_files if '.xml' in file]"
   ]
  },
  {
   "cell_type": "code",
   "execution_count": 3,
   "id": "93141b33-d9b5-412c-b97d-87ab1795566e",
   "metadata": {},
   "outputs": [
    {
     "name": "stdout",
     "output_type": "stream",
     "text": [
      "I number: 81\n",
      "A number: 204\n",
      "B number: 186\n",
      "C number: 79\n"
     ]
    }
   ],
   "source": [
    "I, A, B, C = [], [], [], []\n",
    "for file in XML_files:\n",
    "    if file.split('.')[0][-1] == 'A':\n",
    "        A.append(file)\n",
    "    elif file.split('.')[0][-1] == 'B':\n",
    "        B.append(file)\n",
    "    elif file.split('.')[0][-1] == 'C':\n",
    "        C.append(file)\n",
    "    elif file.split('.')[0][-1] == 'I':\n",
    "        I.append(file)\n",
    "print(\"I number: {}\".format(len(I)))\n",
    "print(\"A number: {}\".format(len(A)))\n",
    "print(\"B number: {}\".format(len(B)))\n",
    "print(\"C number: {}\".format(len(C)))"
   ]
  },
  {
   "cell_type": "code",
   "execution_count": null,
   "id": "6f35b5af-53eb-4de8-a7e8-439a0efdfe2c",
   "metadata": {},
   "outputs": [
    {
     "name": "stdout",
     "output_type": "stream",
     "text": [
      "#####0. Hiloki‘s Melody_10^17B.xml\n",
      "#####1. Hiloki‘s Melody_2^9A.xml\n",
      "#####2. Planetes_1^4I.xml\n",
      "#####3. Planetes_21^28B.xml\n",
      "#####4. Planetes_5^8A.xml\n",
      "#####5. Planetes_9^20C.xml\n",
      "#####6. [Air]てんとう虫(瓢虫)_14^21C.xml\n",
      "#####7. [Air]てんとう虫(瓢虫)_2^5I.xml\n",
      "#####8. [Air]てんとう虫(瓢虫)_42^49B.xml\n",
      "#####9. [Air]てんとう虫(瓢虫)_6^13A.xml\n",
      "#####10. [Air]回想录_9^20B.xml\n",
      "#####11. [Air]夢語り_1^8A.xml\n",
      "#####12. [Air]夢語り_9^16B.xml\n",
      "#####13. [Air]银色_16^27B.xml\n",
      "#####14. [Air]鸟之诗_10^27B.xml\n",
      "#####15. [Air]鸟之诗_1^9I.xml\n",
      "#####16. [Air]鸟之诗_28^43A.xml\n",
      "#####17. [Air]鸟之诗_44^58C.xml\n",
      "#####18. [Angel Beats!]Brave Song_16^25C.xml\n"
     ]
    }
   ],
   "source": [
    "import TAB_generator\n",
    "from TAB_generator import *\n",
    "p, f, t, tunes = readTAB(os.getcwd()+'\\\\')"
   ]
  },
  {
   "cell_type": "code",
   "execution_count": null,
   "id": "9acd82a5-cb1c-4082-bb01-558c175f133f",
   "metadata": {},
   "outputs": [],
   "source": [
    "Isong, Asong, Bsong, Csong = [], [], [], []\n",
    "for file in I:\n",
    "    Isong.append([p[XML_files.index(file)], f[XML_files.index(file)], t[XML_files.index(file)]])\n",
    "for file in A:\n",
    "    Asong.append([p[XML_files.index(file)], f[XML_files.index(file)], t[XML_files.index(file)]])\n",
    "for file in B:\n",
    "    Bsong.append([p[XML_files.index(file)], f[XML_files.index(file)], t[XML_files.index(file)]])\n",
    "for file in C:\n",
    "    Csong.append([p[XML_files.index(file)], f[XML_files.index(file)], t[XML_files.index(file)]])\n",
    "    \n",
    "    "
   ]
  },
  {
   "cell_type": "code",
   "execution_count": null,
   "id": "133beebc-2cba-433f-b406-03679ddaf4d1",
   "metadata": {},
   "outputs": [],
   "source": [
    "Isong[0]"
   ]
  },
  {
   "cell_type": "code",
   "execution_count": null,
   "id": "54d1fcce-c7dc-43f0-b782-f6b465298823",
   "metadata": {},
   "outputs": [],
   "source": [
    "Imeasure_num, Ameasure_num, Bmeasure_num, Cmeasure_num = 0, 0, 0, 0\n",
    "for song in Isong:\n",
    "    Imeasure_num += len(song[0])\n",
    "for song in Asong:\n",
    "    Ameasure_num += len(song[0])\n",
    "for song in Bsong:\n",
    "    Bmeasure_num += len(song[0])\n",
    "for song in Csong:\n",
    "    Cmeasure_num += len(song[0])\n",
    "print('I song total measure:{}, average:{:.2f}'.format(Imeasure_num, Imeasure_num/len(I)))\n",
    "print('A song total measure:{}, average:{:.2f}'.format(Ameasure_num, Ameasure_num/len(A)))\n",
    "print('B song total measure:{}, average:{:.2f}'.format(Bmeasure_num, Bmeasure_num/len(B)))\n",
    "print('C song total measure:{}, average:{:.2f}'.format(Cmeasure_num, Cmeasure_num/len(C)))"
   ]
  },
  {
   "cell_type": "code",
   "execution_count": null,
   "id": "c4b33161-db34-43fa-8183-750deb10fe94",
   "metadata": {},
   "outputs": [],
   "source": [
    "Inote_num, Anote_num, Bnote_num, Cnote_num = 0, 0, 0, 0\n",
    "for song in Isong:\n",
    "    for measure in song[0]:\n",
    "        Inote_num += len(measure)\n",
    "for song in Asong:\n",
    "    for measure in song[0]:\n",
    "        Anote_num += len(measure)\n",
    "for song in Bsong:\n",
    "    for measure in song[0]:\n",
    "        Bnote_num += len(measure)\n",
    "for song in Csong:\n",
    "    for measure in song[0]:\n",
    "        Cnote_num += len(measure)\n",
    "print('I song total note:{}, average:{:.2f}'.format(Inote_num, Inote_num/len(I)))\n",
    "print('A song total note:{}, average:{:.2f}'.format(Anote_num, Anote_num/len(A)))\n",
    "print('B song total note:{}, average:{:.2f}'.format(Bnote_num, Bnote_num/len(B)))\n",
    "print('C song total note:{}, average:{:.2f}'.format(Cnote_num, Cnote_num/len(C)))"
   ]
  }
 ],
 "metadata": {
  "kernelspec": {
   "display_name": "Python 3 (ipykernel)",
   "language": "python",
   "name": "python3"
  },
  "language_info": {
   "codemirror_mode": {
    "name": "ipython",
    "version": 3
   },
   "file_extension": ".py",
   "mimetype": "text/x-python",
   "name": "python",
   "nbconvert_exporter": "python",
   "pygments_lexer": "ipython3",
   "version": "3.9.7"
  }
 },
 "nbformat": 4,
 "nbformat_minor": 5
}
