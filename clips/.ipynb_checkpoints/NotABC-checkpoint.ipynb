{
 "cells": [
  {
   "cell_type": "code",
   "execution_count": 10,
   "id": "c066f20e-fb95-4ac6-b257-123c38fe8e6c",
   "metadata": {},
   "outputs": [],
   "source": [
    "#将没有分ABC的片段单跳出来\n",
    "import shutil\n",
    "import os\n",
    "\n",
    "path = 'C:\\\\Users\\\\28056\\\\Desktop\\\\研究生\\\\ACG-guitar-scores-dataset-in-musicXML\\\\ACG-guitar-scores-dataset-in-musicXML\\\\XML\\\\'\n",
    "newpath='C:\\\\Users\\\\28056\\\\Desktop\\\\研究生\\\\ACG-guitar-scores-dataset-in-musicXML\\\\ACG-guitar-scores-dataset-in-musicXML\\\\XML\\\\问题样本\\\\'\n",
    "filenames = [i for i in os.listdir(path) if '.xml' in i]"
   ]
  },
  {
   "cell_type": "code",
   "execution_count": 11,
   "id": "24e467cf-536a-4144-8dbd-0bf34b6e3df1",
   "metadata": {},
   "outputs": [],
   "source": [
    "for file in filenames:\n",
    "    if file.split('.')[0][-1] not in ['A', 'B', 'C', 'I']:\n",
    "        print(file)"
   ]
  },
  {
   "cell_type": "code",
   "execution_count": null,
   "id": "204abbbd-27ad-4625-a9ef-08136ed4c64d",
   "metadata": {},
   "outputs": [],
   "source": []
  }
 ],
 "metadata": {
  "kernelspec": {
   "display_name": "Python 3 (ipykernel)",
   "language": "python",
   "name": "python3"
  },
  "language_info": {
   "codemirror_mode": {
    "name": "ipython",
    "version": 3
   },
   "file_extension": ".py",
   "mimetype": "text/x-python",
   "name": "python",
   "nbconvert_exporter": "python",
   "pygments_lexer": "ipython3",
   "version": "3.9.7"
  }
 },
 "nbformat": 4,
 "nbformat_minor": 5
}
