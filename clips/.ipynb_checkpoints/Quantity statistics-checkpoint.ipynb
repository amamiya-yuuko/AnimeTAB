{
 "cells": [
  {
   "cell_type": "code",
   "execution_count": 2,
   "id": "f811ce33-b403-4605-ae43-c89c4ab13cad",
   "metadata": {},
   "outputs": [],
   "source": [
    "import numpy as np\n",
    "import matplotlib.pyplot as plt\n",
    "from xml.dom import minidom\n",
    "from xml.dom.minidom import parse\n",
    "import os"
   ]
  },
  {
   "cell_type": "code",
   "execution_count": 3,
   "id": "d4afacbf-e890-447d-997e-116840563d09",
   "metadata": {},
   "outputs": [],
   "source": [
    "XML_files = os.listdir(os.getcwd())\n",
    "XML_files = [file for file in XML_files if '.xml' in file]"
   ]
  },
  {
   "cell_type": "code",
   "execution_count": 19,
   "id": "93141b33-d9b5-412c-b97d-87ab1795566e",
   "metadata": {},
   "outputs": [
    {
     "name": "stdout",
     "output_type": "stream",
     "text": [
      "I number: 14\n",
      "A number: 51\n",
      "B number: 44\n",
      "C number: 11\n"
     ]
    }
   ],
   "source": [
    "I, A, B, C = [], [], [], []\n",
    "for file in XML_files:\n",
    "    if file.split('.')[0][-1] == 'A':\n",
    "        A.append(file)\n",
    "    elif file.split('.')[0][-1] == 'B':\n",
    "        B.append(file)\n",
    "    elif file.split('.')[0][-1] == 'C':\n",
    "        C.append(file)\n",
    "    elif file.split('.')[0][-1] == 'I':\n",
    "        I.append(file)\n",
    "print(\"I number: {}\".format(len(I)))\n",
    "print(\"A number: {}\".format(len(A)))\n",
    "print(\"B number: {}\".format(len(B)))\n",
    "print(\"C number: {}\".format(len(C)))"
   ]
  },
  {
   "cell_type": "code",
   "execution_count": 11,
   "id": "6f35b5af-53eb-4de8-a7e8-439a0efdfe2c",
   "metadata": {},
   "outputs": [],
   "source": [
    "import TAB_generator\n",
    "from TAB_generator import *\n",
    "p, f, t, tunes = readTAB(os.getcwd()+'\\\\')"
   ]
  },
  {
   "cell_type": "code",
   "execution_count": 13,
   "id": "9acd82a5-cb1c-4082-bb01-558c175f133f",
   "metadata": {},
   "outputs": [],
   "source": [
    "Isong, Asong, Bsong, Csong = [], [], [], []\n",
    "for file in I:\n",
    "    Isong.append([p[XML_files.index(file)], f[XML_files.index(file)], t[XML_files.index(file)]])\n",
    "for file in A:\n",
    "    Asong.append([p[XML_files.index(file)], f[XML_files.index(file)], t[XML_files.index(file)]])\n",
    "for file in B:\n",
    "    Bsong.append([p[XML_files.index(file)], f[XML_files.index(file)], t[XML_files.index(file)]])\n",
    "for file in C:\n",
    "    Csong.append([p[XML_files.index(file)], f[XML_files.index(file)], t[XML_files.index(file)]])\n",
    "    \n",
    "    "
   ]
  },
  {
   "cell_type": "code",
   "execution_count": 20,
   "id": "133beebc-2cba-433f-b406-03679ddaf4d1",
   "metadata": {},
   "outputs": [
    {
     "data": {
      "text/plain": [
       "[[['4F 4C 3B- 3F 2B-', '3B-', '4C', '4F'],\n",
       "  ['4C 3G 3C', '4C', '4C', '4F', '4C'],\n",
       "  ['4C 3G 2A 2A', '3G', '4C', '4F', '4C'],\n",
       "  ['4C 3A 3F 3C 2F', '4C 3B- 3F 3C 2F', '4C 3A 3F 3C 2F', '4C 3A 3F 3C 2F'],\n",
       "  ['4F 4C 3B- 3F 2B-', '3F', '3B-', '4F'],\n",
       "  ['4C 3G 3C', '4C', '4C', '4F'],\n",
       "  ['4F 4D 3A 3D', '3A', '4F', '4D', '3A'],\n",
       "  ['4F 4C 3A 3D', '4F 4C 3A 3F 3C 2F']],\n",
       " [['(1,1) (2,1) (3,3) (4,3) (5,1)', '(3,3)', '(2,1)', '(1,1)'],\n",
       "  ['(3,5) (4,5) (5,3)', '(3,5)', '(3,5)', '(2,6)', '(3,5)'],\n",
       "  ['(3,5) (4,5) (6,5) (5,0)', '(4,5)', '(3,5)', '(2,6)', '(3,5)'],\n",
       "  ['(2,1) (3,2) (4,3) (5,3) (6,1)',\n",
       "   '(2,1) (3,3) (4,3) (5,3) (6,1)',\n",
       "   '(2,1) (3,2) (4,3) (5,3) (6,1)',\n",
       "   '(2,1) (3,2) (4,3) (5,3) (6,1)'],\n",
       "  ['(1,1) (2,1) (3,3) (4,3) (5,1)', '(4,3)', '(3,3)', '(1,1)'],\n",
       "  ['(3,5) (4,5) (5,3)', '(3,5)', '(3,5)', '(2,6)'],\n",
       "  ['(2,6) (3,7) (4,7) (5,5)', '(4,7)', '(2,6)', '(3,7)', '(4,7)'],\n",
       "  ['(2,6) (3,5) (4,7) (5,5)', '(1,1) (2,1) (3,2) (4,3) (5,3) (6,1)']],\n",
       " [[1.0, 0.5, 1.0, 1.5],\n",
       "  [1.0, 0.5, 1.0, 1.0, 0.5],\n",
       "  [1.0, 0.5, 1.0, 1.0, 0.5],\n",
       "  [1.5, 1.0, 1.0, 0.5],\n",
       "  [1.0, 0.5, 1.0, 1.5],\n",
       "  [1.0, 0.5, 1.0, 1.5],\n",
       "  [1.0, 0.5, 1.0, 0.5, 1.0],\n",
       "  [2.0, 2.0]]]"
      ]
     },
     "execution_count": 20,
     "metadata": {},
     "output_type": "execute_result"
    }
   ],
   "source": [
    "Isong[0]"
   ]
  },
  {
   "cell_type": "code",
   "execution_count": 23,
   "id": "54d1fcce-c7dc-43f0-b782-f6b465298823",
   "metadata": {},
   "outputs": [],
   "source": [
    "Imeasure_num, Ameasure_num, Bmeasure_num, Cmeasure_num = 0, 0, 0, 0\n",
    "for song in Isong:\n",
    "    Imeasure_num += len(song[0])\n",
    "for song in Asong:\n",
    "    Ameasure_num += len(song[0])\n",
    "for song in Bsong:\n",
    "    Bmeasure_num += len(song[0])\n",
    "for song in Csong:\n",
    "    Cmeasure_num += len(song[0])\n",
    "print('I song total measure:{}, average:{:.2f}'.format(Imeasure_num, Imeasure_num/len(I)))\n",
    "print('A song total measure:{}, average:{:.2f}'.format(Ameasure_num, Ameasure_num/len(A)))\n",
    "print('B song total measure:{}, average:{:.2f}'.format(Bmeasure_num, Bmeasure_num/len(B)))\n",
    "print('C song total measure:{}, average:{:.2f}'.format(Cmeasure_num, Cmeasure_num/len(C)))"
   ]
  },
  {
   "cell_type": "code",
   "execution_count": 24,
   "id": "c4b33161-db34-43fa-8183-750deb10fe94",
   "metadata": {},
   "outputs": [
    {
     "name": "stdout",
     "output_type": "stream",
     "text": [
      "I song total note:852, average:60.86\n",
      "A song total note:4238, average:83.10\n",
      "B song total note:3436, average:78.09\n",
      "C song total note:596, average:54.18\n"
     ]
    }
   ],
   "source": [
    "Inote_num, Anote_num, Bnote_num, Cnote_num = 0, 0, 0, 0\n",
    "for song in Isong:\n",
    "    for measure in song[0]:\n",
    "        Inote_num += len(measure)\n",
    "for song in Asong:\n",
    "    for measure in song[0]:\n",
    "        Anote_num += len(measure)\n",
    "for song in Bsong:\n",
    "    for measure in song[0]:\n",
    "        Bnote_num += len(measure)\n",
    "for song in Csong:\n",
    "    for measure in song[0]:\n",
    "        Cnote_num += len(measure)\n",
    "print('I song total note:{}, average:{:.2f}'.format(Inote_num, Inote_num/len(I)))\n",
    "print('A song total note:{}, average:{:.2f}'.format(Anote_num, Anote_num/len(A)))\n",
    "print('B song total note:{}, average:{:.2f}'.format(Bnote_num, Bnote_num/len(B)))\n",
    "print('C song total note:{}, average:{:.2f}'.format(Cnote_num, Cnote_num/len(C)))"
   ]
  }
 ],
 "metadata": {
  "kernelspec": {
   "display_name": "Python 3 (ipykernel)",
   "language": "python",
   "name": "python3"
  },
  "language_info": {
   "codemirror_mode": {
    "name": "ipython",
    "version": 3
   },
   "file_extension": ".py",
   "mimetype": "text/x-python",
   "name": "python",
   "nbconvert_exporter": "python",
   "pygments_lexer": "ipython3",
   "version": "3.9.7"
  }
 },
 "nbformat": 4,
 "nbformat_minor": 5
}
