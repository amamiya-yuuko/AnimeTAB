{
 "cells": [
  {
   "cell_type": "code",
   "execution_count": 3,
   "id": "cd1166df-627c-472c-9bc4-ff076a2599a0",
   "metadata": {},
   "outputs": [],
   "source": [
    "import os\n",
    "path = os.getcwd()"
   ]
  },
  {
   "cell_type": "code",
   "execution_count": 28,
   "id": "de04f832-3199-4d0f-a785-3b7ff0254742",
   "metadata": {},
   "outputs": [
    {
     "name": "stdout",
     "output_type": "stream",
     "text": [
      "Hiloki‘s Melody_10^17B.xml\n",
      "Hiloki‘s Melody_2^9A.xml\n",
      "Planetes_1^4I.xml\n",
      "Planetes_21^28B.xml\n",
      "Planetes_5^8A.xml\n",
      "Planetes_9^20C.xml\n",
      "[中华小当家]青い空に出逢えた_17^28B.xml\n",
      "[中华小当家]青い空に出逢えた_1^16A.xml\n",
      "[幽灵公主]アシタカせっ記_1^6I.xml\n",
      "[幽灵公主]アシタカせっ記_7^21A.xml\n",
      "[幽灵公主]幽灵公主_11^18A.xml\n",
      "[幽灵公主]幽灵公主_19^32B.xml\n",
      "[斩!赤红之瞳]Liar Mask_5^12A.xml\n",
      "[斩!赤红之瞳]月灯り_13^20C.xml\n",
      "[斩!赤红之瞳]月灯り_5^12A.xml\n",
      "[真实之泪]リフレクティア_21^28C.xml\n",
      "[真实之泪]リフレクティア_29^36B.xml\n",
      "[真实之泪]リフレクティア_5^12A.xml\n",
      "[缘之空]比翼の羽根_1^6I.xml\n",
      "[缘之空]比翼の羽根_30^44B.xml\n",
      "[缘之空]比翼の羽根_7^21A.xml\n",
      "[银魂]昔日友人_3^10A.xml\n",
      "ひこうき雲_21^28B.xml\n",
      "ひこうき雲_5^12A.xml\n",
      "你的声音_9^16A.xml\n",
      "你给我的东西_10^14C.xml\n",
      "你给我的东西_15^22B.xml\n",
      "你给我的东西_2^9A.xml\n",
      "帰るから_20^27B.xml\n",
      "帰るから_2^5I.xml\n",
      "帰るから_6^13A.xml\n",
      "晓之车_13^20A.xml\n",
      "晓之车_21^28B.xml\n",
      "晓之车_31^38B.xml\n",
      "晓之车_5^12A.xml\n",
      "阳光下躺着的猫_18^25B.xml\n",
      "阳光下躺着的猫_1^8A.xml\n",
      "阳光下躺着的猫_9^16C.xml\n"
     ]
    }
   ],
   "source": [
    "XML_files = os.listdir(path)\n",
    "XML_files = [file for file in XML_files if '.xml' in file]\n",
    "for num1, file in enumerate(XML_files):\n",
    "    filelist = list(file)\n",
    "    for i in range(len(file)-1, -1, -1):\n",
    "        if filelist[i] == '^':\n",
    "            filelist.pop(i)\n",
    "            break\n",
    "    #file = file.join(filelist)\n",
    "    file = ''.join(filelist)       \n",
    "    print(file)\n",
    "    os.rename(XML_files[num1], file)"
   ]
  },
  {
   "cell_type": "code",
   "execution_count": 21,
   "id": "2f2db16a-d15a-4c63-ba68-68cc3cdf0918",
   "metadata": {},
   "outputs": [
    {
     "data": {
      "text/plain": [
       "'Hiloki‘s Melody_10^17^B.xml'"
      ]
     },
     "execution_count": 21,
     "metadata": {},
     "output_type": "execute_result"
    }
   ],
   "source": [
    "a = XML_files[0]\n",
    "a"
   ]
  },
  {
   "cell_type": "code",
   "execution_count": 25,
   "id": "66e043eb-9fed-4e40-9804-c8ec2e889127",
   "metadata": {},
   "outputs": [
    {
     "name": "stdout",
     "output_type": "stream",
     "text": [
      "['H', 'i', 'l', 'o', 'k', 'i', '‘', 's', ' ', 'M', 'e', 'l', 'o', 'd', 'y', '_', '1', '0', '^', '1', '7', '^', 'B', '.', 'x', 'm', 'l']\n",
      "['H', 'i', 'l', 'o', 'k', 'i', '‘', 's', ' ', 'M', 'e', 'l', 'o', 'd', 'y', '_', '1', '0', '^', '1', '7', 'B', '.', 'x', 'm', 'l']\n",
      "Hiloki‘s Melody_10^17B.xml\n"
     ]
    }
   ],
   "source": [
    "b = list(a)\n",
    "print(b)\n",
    "b.pop(-6)\n",
    "print(b)\n",
    "b = ''.join(b)\n",
    "print(b)"
   ]
  },
  {
   "cell_type": "code",
   "execution_count": 18,
   "id": "76465f86-8c63-425e-a3ea-7c1c06412e85",
   "metadata": {},
   "outputs": [
    {
     "name": "stdout",
     "output_type": "stream",
     "text": [
      "公号：土堆碎念\n"
     ]
    }
   ],
   "source": [
    "string = '公众号：土堆碎念'\n",
    "list_str = list(string)\n",
    "list_str.pop(1)\n",
    "list_str = ''.join(list_str)\n",
    "print(list_str)"
   ]
  }
 ],
 "metadata": {
  "kernelspec": {
   "display_name": "Python 3 (ipykernel)",
   "language": "python",
   "name": "python3"
  },
  "language_info": {
   "codemirror_mode": {
    "name": "ipython",
    "version": 3
   },
   "file_extension": ".py",
   "mimetype": "text/x-python",
   "name": "python",
   "nbconvert_exporter": "python",
   "pygments_lexer": "ipython3",
   "version": "3.9.7"
  }
 },
 "nbformat": 4,
 "nbformat_minor": 5
}
