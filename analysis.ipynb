{
 "cells": [
  {
   "cell_type": "code",
   "execution_count": 1,
   "id": "447ddf43-7c99-4b95-ae6c-8ae64bf6d10e",
   "metadata": {},
   "outputs": [],
   "source": [
    "import TAB_generator\n",
    "from TAB_generator import *\n",
    "import os\n",
    "path = os.getcwd()"
   ]
  },
  {
   "cell_type": "code",
   "execution_count": 2,
   "id": "839c6fad-9818-4efd-9030-19947e9c5056",
   "metadata": {},
   "outputs": [
    {
     "name": "stdout",
     "output_type": "stream",
     "text": [
      "#####0. a[Air]鸟之诗1^9I.xml\n",
      "#####1. a[圣斗士]原谅我 1^14A.xml\n",
      "#####2. A[日在校园]悲しみの向こうへ(向着悲伤的彼方)18^26B.xml\n",
      "#####3. a[植物大战僵尸]Grasswalk1^8A.xml\n",
      "#####4. a[植物大战僵尸]Graze the Roof11^18A.xml\n",
      "#####5. a[植物大战僵尸]植物保龄球 1^13A.xml\n",
      "#####6. a[猎人]魂魄之挽歌C调 10^17A.xml\n",
      "    ! In measure 0, sum of timesig should be 3.0, but6.0\n",
      "    ! In measure 1, sum of timesig should be 3.0, but6.0\n",
      "    ! In measure 2, sum of timesig should be 3.0, but6.0\n",
      "    ! In measure 3, sum of timesig should be 3.0, but6.0\n",
      "    ! In measure 4, sum of timesig should be 3.0, but6.0\n",
      "    ! In measure 5, sum of timesig should be 3.0, but6.0\n",
      "    ! In measure 6, sum of timesig should be 3.0, but6.0\n",
      "    ! In measure 7, sum of timesig should be 3.0, but6.0\n",
      "#####7. A[秒速五厘米]One more time One more chance1^4I.xml\n",
      "#####8. a[钢炼]兄弟3^10A.xml\n",
      "#####9. b[CLANNAD]欢乐岛1^15I.xml\n",
      "#####10. b[圣斗士]真红的少年 1^16A.xml\n",
      "#####11. b[魔法少女小圆]Connect18^33A.xml\n",
      "#####12. c#[无头骑士异闻录]コンプリケイション1^8I.xml\n",
      "#####13. C[Air]てんとう虫(瓢虫)2^5I.xml\n",
      "#####14. C[CLANNAD]东风1^9I.xml\n",
      "#####15. C[Little busters]Song for friends1^16A.xml\n",
      "    ! In measure 0, sum of timesig should be 3.5, but7.0\n",
      "    ! In measure 1, sum of timesig should be 3.5, but7.0\n",
      "    ! In measure 2, sum of timesig should be 3.5, but7.0\n",
      "    ! In measure 3, sum of timesig should be 3.5, but7.0\n",
      "    ! In measure 4, sum of timesig should be 3.5, but7.0\n",
      "    ! In measure 5, sum of timesig should be 3.5, but7.0\n",
      "    ! In measure 6, sum of timesig should be 3.5, but7.0\n",
      "    ! In measure 7, sum of timesig should be 3.5, but7.0\n",
      "    ! In measure 8, sum of timesig should be 3.5, but7.0\n",
      "    ! In measure 9, sum of timesig should be 3.5, but7.0\n",
      "    ! In measure 10, sum of timesig should be 3.5, but7.0\n",
      "    ! In measure 11, sum of timesig should be 3.5, but7.0\n",
      "    ! In measure 12, sum of timesig should be 3.5, but7.0\n",
      "    ! In measure 13, sum of timesig should be 3.5, but7.0\n",
      "    ! In measure 14, sum of timesig should be 3.5, but7.0\n",
      "    ! In measure 15, sum of timesig should be 3.5, but7.0\n",
      "#####16. C[化物语]恋爱サ キュレ ション1^13I.xml\n",
      "#####17. C[咲]咲OP33^47B.xml\n",
      "#####18. C[哈尔的移动城堡]世界的约定1^15I.xml\n",
      "#####19. C[喜羊羊与灰太狼]喜羊羊与灰太狼主题曲1^8I.xml\n",
      "#####20. C[数码宝贝]Butterfly13^28A.xml\n",
      "#####21. C[柯南]Time after time～花舞う街で～1^5I.xml\n",
      "#####22. C[泡泡堂]海盗船 1^8A.xml\n",
      "#####23. C[红猪]樱桃成熟时12^24A.xml\n",
      "#####24. C[龙猫]邻家的龙猫31^48B.xml\n",
      "#####25. D[Kanon]Last Regrets 17^32A.xml\n",
      "#####26. D[Kanon]夢の跡1^13A.xml\n",
      "#####27. D[水星领航员]Rainbow1^4I.xml\n",
      "#####28. D[秒速五厘米]想い出は遠くの日々(回忆遥远的往昔) 1^8I.xml\n",
      "#####29. D[青空下的约定]风のアルペジオ1^17A.xml\n",
      "#####30. E[Air]银色 16^27B.xml\n",
      "#####31. e[天空之城]月光的云海 1^13A.xml\n",
      "#####32. e[寒蝉鸣泣之时]叹息之森1^14I.xml\n",
      "#####33. E[死神]Life is Like a Boat 3^19A.xml\n",
      "#####34. E[青空下的约定]はぐれ雲のブルース1^18A.xml\n",
      "#####35. e[魔女宅急便]风之丘 4^19A.xml\n",
      "#####36. F[Air]夢語り 1^8A.xml\n",
      "#####37. g#[吸血鬼骑士]ふたつの鼓动と赤い罪1^18I.xml\n",
      "#####38. G[Air]回想录 9^20B.xml\n",
      "#####39. G[EVA]Fly me to the moon1^8I.xml\n",
      "#####40. G[KOKIA]ありがとう(谢谢)1^5I.xml\n",
      "#####41. G[凉宫]みくるのこころ 5^20B.xml\n",
      "#####42. G[化物语]君の知らない物語19^34A.xml\n",
      "#####43. G[好想告诉你]Pure white story5^20A.xml\n",
      "#####44. G[死神]HANABI(花火)1^20A.xml\n",
      "#####45. G[相聚一刻]予感6^17A.xml\n",
      "#####46. G[魔力女管家]归途 5^20A.xml\n"
     ]
    }
   ],
   "source": [
    "p, f, t = readTAB(path + '\\\\test\\\\')"
   ]
  },
  {
   "cell_type": "code",
   "execution_count": 3,
   "id": "2281c764-c7b1-407b-a7f7-c09365dbda4f",
   "metadata": {},
   "outputs": [
    {
     "name": "stdout",
     "output_type": "stream",
     "text": [
      "['4B 4D 3E', '4A', '4G# 4D 3E', '4A 3E', '4E 2A', '4E 2A', '4E']\n",
      "['(1,7) (3,7) (5,7)', '(2,10)', '(2,9) (3,7) (5,7)', '(2,10) (5,7)', '(1,0) (6,5)', '(1,0) (5,0)', '(1,0)']\n"
     ]
    }
   ],
   "source": [
    "print(p[2][1])\n",
    "print(f[2][1])"
   ]
  },
  {
   "cell_type": "code",
   "execution_count": 4,
   "id": "d028aa42-9abf-4560-85ff-1e4cb4de46e3",
   "metadata": {},
   "outputs": [
    {
     "name": "stdout",
     "output_type": "stream",
     "text": [
      "228\n"
     ]
    }
   ],
   "source": [
    "all_chord = []\n",
    "for songnum, song in enumerate(p):\n",
    "    for measurenum, measure in enumerate(song):\n",
    "        for pitchnum, pitchcu in enumerate(measure):\n",
    "            if len(pitchcu.split()) >= 3 and int(f[songnum][measurenum][pitchnum].split()[0][1])>1:\n",
    "                all_chord.append((pitchcu, f[songnum][measurenum][pitchnum]))\n",
    "print(len(all_chord))               "
   ]
  },
  {
   "cell_type": "code",
   "execution_count": 5,
   "id": "ef3073a1-d4f7-4105-b654-4a0e8108deb3",
   "metadata": {},
   "outputs": [],
   "source": [
    "import random\n",
    "all_chord = random.sample(all_chord, 128)"
   ]
  },
  {
   "cell_type": "code",
   "execution_count": 6,
   "id": "37266169-5f59-44aa-8601-2c7e6167f842",
   "metadata": {},
   "outputs": [
    {
     "data": {
      "text/plain": [
       "[('4A 4D 2B', '(2,10) (3,7) (6,7)'),\n",
       " ('4C 3G 3E', '(2,1) (3,0) (4,2)'),\n",
       " ('4C 3G 2G', '(2,1) (3,0) (6,3)'),\n",
       " ('3B 3G 2E', '(2,2) (3,0) (6,2)'),\n",
       " ('4C 3G 2G', '(2,1) (3,0) (6,3)'),\n",
       " ('4C 3E 2F', '(2,3) (4,2) (6,1)'),\n",
       " ('4C 3G 3C', '(2,1) (3,0) (5,3)'),\n",
       " ('4A 4D 3A', '(2,10) (3,7) (4,7)'),\n",
       " ('4F# 3B 2G#', '(2,7) (3,4) (6,4)'),\n",
       " ('3A 3D 2B', '(3,2) (4,0) (5,2)'),\n",
       " ('4C# 3A 3E 2A', '(2,2) (3,2) (4,2) (5,0)'),\n",
       " ('4D 3A 2F', '(2,3) (3,2) (6,1)'),\n",
       " ('3B 3F# 2B', '(3,4) (4,4) (5,2)'),\n",
       " ('5B 5F# 5D 4G', '(2,12) (3,11) (4,12) (5,10)'),\n",
       " ('4F 4D 3A#', '(2,6) (3,7) (4,8)'),\n",
       " ('4C 3G 3E 3C', '(2,1) (3,0) (4,2) (5,3)'),\n",
       " ('3A 3F# 2B', '(3,2) (4,4) (5,2)'),\n",
       " ('4A 4E 3F#', '(2,10) (3,9) (5,9)'),\n",
       " ('4D 3A 2B', '(3,7) (4,7) (6,7)'),\n",
       " ('4D# 4C 2G#', '(2,4) (3,5) (6,4)'),\n",
       " ('4D 3A 2F', '(2,3) (3,2) (6,1)'),\n",
       " ('4F 4D 2A#', '(2,6) (3,7) (6,6)'),\n",
       " ('4D 3G# 3E 2B 2E', '(2,3) (3,1) (4,2) (5,2) (6,0)'),\n",
       " ('4C 3G 3C', '(2,1) (3,0) (5,3)'),\n",
       " ('4C 3G 3E 3C', '(2,1) (3,0) (4,2) (5,3)'),\n",
       " ('3B 3F# 3C#', '(2,0) (4,4) (5,4)'),\n",
       " ('4D 3G 2G', '(2,3) (3,0) (6,3)'),\n",
       " ('4C 3G 3E', '(2,1) (3,0) (4,2)'),\n",
       " ('4G# 4D 3E', '(2,9) (3,7) (5,7)'),\n",
       " ('4F 4D 3A#', '(2,6) (3,7) (4,8)'),\n",
       " ('5C 4A 3A', '(2,1) (3,2) (5,0)'),\n",
       " ('4C 3A 3F', '(2,1) (3,2) (4,3)'),\n",
       " ('5D 4A 4F 3B', '(2,3) (3,2) (4,3) (5,2)'),\n",
       " ('4D 3G 2G', '(2,3) (3,0) (6,3)'),\n",
       " ('4B 4G 4E', '(2,0) (3,0) (4,2)'),\n",
       " ('4C 3G 3E', '(2,1) (3,0) (4,2)'),\n",
       " ('4C 3G 3F#', '(2,3) (3,0) (4,4)'),\n",
       " ('4C 3A 3F', '(2,1) (3,2) (4,3)'),\n",
       " ('4C# 3F# 3D#', '(2,2) (5,9) (4,1)'),\n",
       " ('4D 3G 3E', '(2,3) (3,0) (4,2)'),\n",
       " ('4C 3G 2E', '(2,1) (3,0) (6,0)'),\n",
       " ('3B 3F# 3C#', '(2,0) (4,4) (5,4)'),\n",
       " ('4E 3A 3F# 2B', '(2,5) (3,2) (4,4) (5,2)'),\n",
       " ('4C 3G 2G', '(2,1) (3,0) (6,3)'),\n",
       " ('3B 3G 3D', '(2,0) (3,0) (4,0)'),\n",
       " ('4C 3A 3F', '(2,1) (3,2) (4,3)'),\n",
       " ('4A 4E 3F#', '(2,10) (3,9) (5,9)'),\n",
       " ('3G 3D 2A 2F', '(3,0) (4,0) (5,0) (6,1)'),\n",
       " ('4D 3A 3D 2F#', '(2,3) (3,2) (4,0) (6,2)'),\n",
       " ('5C 4A 3A', '(2,1) (3,2) (5,0)'),\n",
       " ('4D 3A 3F 2F', '(2,3) (3,2) (4,3) (6,1)'),\n",
       " ('3G 3E 3C', '(3,0) (4,2) (5,3)'),\n",
       " ('4C 3F 2F', '(2,1) (4,3) (6,3)'),\n",
       " ('4C 3A 2F', '(2,1) (3,2) (6,1)'),\n",
       " ('5C 4G 4E', '(2,1) (3,0) (4,2)'),\n",
       " ('4D# 4C 2G#', '(2,4) (3,5) (6,4)'),\n",
       " ('3B 3G 2G', '(2,2) (3,0) (6,5)'),\n",
       " ('4C 3G 3E 3C', '(2,1) (3,0) (4,2) (5,3)'),\n",
       " ('4B 4G 3E', '(2,0) (3,0) (6,0)'),\n",
       " ('3A 3G 2A', '(2,0) (3,0) (5,0)'),\n",
       " ('4C 3G 3E 3C', '(2,1) (3,0) (4,2) (5,3)'),\n",
       " ('4D# 4C 3G#', '(2,4) (3,5) (4,6)'),\n",
       " ('4D 3A 3E', '(2,3) (3,2) (4,2)'),\n",
       " ('4B 4G 4E', '(2,0) (3,0) (4,2)'),\n",
       " ('4D 3A 3G 3D', '(2,3) (3,2) (4,5) (5,5)'),\n",
       " ('4D 3G 3D 2G', '(2,3) (3,0) (4,0) (6,3)'),\n",
       " ('4E 3A 3E 2F#', '(2,5) (3,2) (4,2) (6,2)'),\n",
       " ('4B 4G 3G', '(2,0) (3,0) (6,3)'),\n",
       " ('5B 5F# 5D 4G', '(2,12) (3,11) (4,12) (5,10)'),\n",
       " ('3G 3D 2E', '(3,0) (4,0) (6,2)'),\n",
       " ('3B 3A 2A', '(2,0) (3,2) (5,0)'),\n",
       " ('4C 3G 3C', '(3,5) (4,5) (5,3)'),\n",
       " ('4C 3G 3E', '(2,1) (3,0) (4,2)'),\n",
       " ('4C 3G 2G', '(2,1) (3,0) (6,3)'),\n",
       " ('3A# 3F# 3C# 2F#', '(3,3) (4,4) (5,4) (6,2)'),\n",
       " ('4D 3G 2G', '(2,3) (3,0) (6,3)'),\n",
       " ('5D 4G 3G', '(2,3) (3,0) (6,3)'),\n",
       " ('4D 3G 2G', '(2,3) (3,0) (6,3)'),\n",
       " ('4B 4G 3G', '(2,0) (3,0) (6,3)'),\n",
       " ('3A 3G 2A', '(2,0) (3,0) (5,0)'),\n",
       " ('4D 3G 3C', '(2,3) (3,0) (5,3)'),\n",
       " ('4C 3A 3D# 2F#', '(2,1) (3,2) (4,1) (6,2)'),\n",
       " ('3A 3E 2B', '(3,2) (4,2) (5,2)'),\n",
       " ('3B 3G 2E', '(2,0) (3,0) (6,0)'),\n",
       " ('5D 4D 3G', '(2,3) (4,0) (6,3)'),\n",
       " ('3A 3F# 3D', '(3,2) (4,4) (5,5)'),\n",
       " ('5C 4G 4E', '(2,1) (3,0) (4,2)'),\n",
       " ('4B 4G 3E', '(2,0) (3,0) (6,0)'),\n",
       " ('4E 3A 3F# 2F#', '(2,5) (3,2) (4,4) (6,2)'),\n",
       " ('4C 3G# 3D# 3C', '(2,1) (3,1) (4,1) (5,3)'),\n",
       " ('4F 4D 3A#', '(2,6) (3,7) (4,8)'),\n",
       " ('4C 3G 2G', '(2,1) (3,0) (6,3)'),\n",
       " ('4D# 4C 3G#', '(2,4) (3,5) (4,6)'),\n",
       " ('4D 3G 3E', '(2,3) (3,0) (4,2)'),\n",
       " ('3A# 3F# 3C#', '(3,3) (4,4) (5,4)'),\n",
       " ('4C# 3G# 3D#', '(2,2) (3,1) (4,1)'),\n",
       " ('4D 3B 3F# 2B', '(2,3) (3,4) (4,4) (5,2)'),\n",
       " ('5D 4F# 4D', '(2,3) (4,4) (5,5)'),\n",
       " ('3B 3G 3D 2G', '(2,0) (3,0) (4,0) (6,3)'),\n",
       " ('4F 4D 2A#', '(2,6) (3,7) (6,6)'),\n",
       " ('4C# 3A 3E 2A', '(2,2) (3,2) (4,2) (5,0)'),\n",
       " ('4C# 3A 3E 2F#', '(2,2) (3,2) (4,2) (6,2)'),\n",
       " ('4D 3G 2G', '(2,3) (3,0) (6,3)'),\n",
       " ('4C 3D 2G', '(2,3) (4,0) (6,3)'),\n",
       " ('4E 3A 3F# 2F#', '(2,5) (3,2) (4,4) (6,2)'),\n",
       " ('4D 3G 2G', '(2,3) (3,0) (6,3)'),\n",
       " ('4D 3F# 2B', '(3,7) (5,9) (6,7)'),\n",
       " ('4C 3A 2F', '(2,1) (3,2) (6,1)'),\n",
       " ('3A 3G 2A', '(2,0) (3,0) (5,0)'),\n",
       " ('4D 3A 3F# 2F#', '(2,3) (3,2) (4,4) (6,2)'),\n",
       " ('3B 3G 3D 2G', '(2,0) (3,0) (4,0) (6,3)'),\n",
       " ('4C 3A 3F', '(2,1) (3,2) (4,3)'),\n",
       " ('4C# 3A 3E 2A', '(2,2) (3,2) (4,2) (5,0)'),\n",
       " ('3G# 3D# 2G#', '(3,1) (4,1) (6,4)'),\n",
       " ('3B 3G 3D', '(2,0) (3,0) (4,0)'),\n",
       " ('3B 3G 2G', '(2,2) (3,0) (6,5)'),\n",
       " ('5C 4G 4E', '(2,1) (3,0) (4,2)'),\n",
       " ('4C 3G 3C', '(2,1) (3,0) (5,3)'),\n",
       " ('4C 3G 3E', '(2,1) (3,0) (4,2)'),\n",
       " ('4D 3G 3E 3C', '(2,3) (3,0) (4,2) (5,3)'),\n",
       " ('4C 3G 3F#', '(2,3) (3,0) (4,4)'),\n",
       " ('4D# 4C 2G#', '(2,4) (3,5) (6,4)'),\n",
       " ('4C 3A 2F', '(2,1) (3,2) (6,1)'),\n",
       " ('4C# 3G# 3D#', '(2,2) (3,1) (4,1)'),\n",
       " ('3B 3F# 2B', '(3,4) (4,4) (5,2)'),\n",
       " ('3B 3A 2A', '(2,0) (3,2) (5,0)'),\n",
       " ('3G 3D 2G', '(3,0) (4,0) (6,3)'),\n",
       " ('5A 5E 4F# 4C#', '(2,10) (3,9) (5,9) (6,9)')]"
      ]
     },
     "execution_count": 6,
     "metadata": {},
     "output_type": "execute_result"
    }
   ],
   "source": [
    "all_chord"
   ]
  },
  {
   "cell_type": "code",
   "execution_count": 7,
   "id": "30b9b478-0729-4842-8f43-079e9e34a783",
   "metadata": {},
   "outputs": [
    {
     "name": "stdout",
     "output_type": "stream",
     "text": [
      "文件名为：head.xml\n",
      "文件已保存为C:\\Users\\28056\\Desktop\\研究生\\AnimeTAB\\AnimeTAB\\new_head.xml\n"
     ]
    }
   ],
   "source": [
    "pitchset, fingerset, timesigset = [], [], []\n",
    "\n",
    "count = 0\n",
    "pitchmeasure = []\n",
    "fingermeasure = []\n",
    "for chord in all_chord:\n",
    "    count += 1\n",
    "    pitchmeasure.append(chord[0])\n",
    "    fingermeasure.append(chord[1])\n",
    "    \n",
    "    if count == 8:\n",
    "        count=0\n",
    "        pitchset.append(pitchmeasure)\n",
    "        fingerset.append(fingermeasure)\n",
    "        pitchmeasure = []\n",
    "        fingermeasure = []\n",
    "        \n",
    "for i in range(16):\n",
    "    timesigset.append([0.5, 0.5, 0.5, 0.5, 0.5, 0.5, 0.5, 0.5])\n",
    "generateTAB(pitchset,fingerset,  timesigset, filepath=path + '\\\\head.xml')"
   ]
  },
  {
   "cell_type": "code",
   "execution_count": 8,
   "id": "996ff72d-7ec6-43dc-9a32-d8b2c6dbbbd0",
   "metadata": {},
   "outputs": [],
   "source": [
    "generateTAB(p[2], f[2], t[2], filepath=path + '\\\\head.xml')"
   ]
  },
  {
   "cell_type": "code",
   "execution_count": 15,
   "id": "56d83471-5a79-4c97-9bbc-4336d51290b9",
   "metadata": {},
   "outputs": [
    {
     "name": "stdout",
     "output_type": "stream",
     "text": [
      "[['4A 4E 3F#', '4G#', '4A 4E 3F#', '5C# 3F#', '4E 3D', '4E 3D', '5C#'], ['4B 4D 3E', '4A', '4G# 4D 3E', '4A 3E', '4E 2A', '4E 2A', '4E'], ['4D 3D', '4E', '4F#', '4G#', '4A 3C#', '4E'], ['4F# 3B 2G#', '4B', '4A', '4G# 4D# 3C#', '4F#', '4G#'], ['4A 4E 3F#', '4G#', '4A 4E 3F#', '5C# 3F#', '4E 3D', '4E 3D', '5C#'], ['4B 4D 3E', '4A', '4G# 4D 3E', '4A 3E', '4E 2A', '4E 2A', '4E'], ['4D 2B', '4E', '4F#', '4G#', '4A 3C#', '4G#'], ['4F# 3D', '5C#', '4B', '4A', '4G#', '4A'], ['4G#', '4F# 4C# 3A# 3F# 3C#']]\n",
      "[['(2,10) (3,9) (5,9)', '(2,9)', '(2,10) (3,9) (5,9)', '(1,9) (5,9)', '(3,9) (6,10)', '(3,9) (6,10)', '(1,9)'], ['(1,7) (3,7) (5,7)', '(2,10)', '(2,9) (3,7) (5,7)', '(2,10) (5,7)', '(1,0) (6,5)', '(1,0) (5,0)', '(1,0)'], ['(2,3) (4,0)', '(1,0)', '(1,2)', '(1,4)', '(1,5) (5,4)', '(1,0)'], ['(2,7) (3,4) (6,4)', '(1,7)', '(1,5)', '(1,4) (2,4) (5,4)', '(2,7)', '(1,4)'], ['(2,10) (3,9) (5,9)', '(2,9)', '(2,10) (3,9) (5,9)', '(1,9) (5,9)', '(3,9) (6,10)', '(3,9) (6,10)', '(1,9)'], ['(1,7) (3,7) (5,7)', '(2,10)', '(2,9) (3,7) (5,7)', '(2,10) (5,7)', '(1,0) (6,5)', '(1,0) (5,0)', '(1,0)'], ['(2,3) (5,2)', '(1,0)', '(1,2)', '(1,4)', '(1,5) (5,4)', '(1,4)'], ['(2,7) (4,0)', '(1,9)', '(1,7)', '(1,5)', '(1,4)', '(1,5)'], ['(1,4)', '(1,2) (2,2) (3,3) (4,4) (5,4)']]\n"
     ]
    }
   ],
   "source": [
    "print(p[2])\n",
    "print(f[2])"
   ]
  },
  {
   "cell_type": "code",
   "execution_count": 9,
   "id": "e7e70ff9-d187-49c5-bf09-c6dc85b80346",
   "metadata": {},
   "outputs": [
    {
     "name": "stdout",
     "output_type": "stream",
     "text": [
      "[['4A 4D 2B', '4C 3G 3E', '4C 3G 2G', '3B 3G 2E', '4C 3G 2G', '4C 3E 2F', '4C 3G 3C', '4A 4D 3A'], ['4F# 3B 2G#', '3A 3D 2B', '4C# 3A 3E 2A', '4D 3A 2F', '3B 3F# 2B', '5B 5F# 5D 4G', '4F 4D 3A#', '4C 3G 3E 3C'], ['3A 3F# 2B', '4A 4E 3F#', '4D 3A 2B', '4D# 4C 2G#', '4D 3A 2F', '4F 4D 2A#', '4D 3G# 3E 2B 2E', '4C 3G 3C'], ['4C 3G 3E 3C', '3B 3F# 3C#', '4D 3G 2G', '4C 3G 3E', '4G# 4D 3E', '4F 4D 3A#', '5C 4A 3A', '4C 3A 3F'], ['5D 4A 4F 3B', '4D 3G 2G', '4B 4G 4E', '4C 3G 3E', '4C 3G 3F#', '4C 3A 3F', '4C# 3F# 3D#', '4D 3G 3E'], ['4C 3G 2E', '3B 3F# 3C#', '4E 3A 3F# 2B', '4C 3G 2G', '3B 3G 3D', '4C 3A 3F', '4A 4E 3F#', '3G 3D 2A 2F'], ['4D 3A 3D 2F#', '5C 4A 3A', '4D 3A 3F 2F', '3G 3E 3C', '4C 3F 2F', '4C 3A 2F', '5C 4G 4E', '4D# 4C 2G#'], ['3B 3G 2G', '4C 3G 3E 3C', '4B 4G 3E', '3A 3G 2A', '4C 3G 3E 3C', '4D# 4C 3G#', '4D 3A 3E', '4B 4G 4E'], ['4D 3A 3G 3D', '4D 3G 3D 2G', '4E 3A 3E 2F#', '4B 4G 3G', '5B 5F# 5D 4G', '3G 3D 2E', '3B 3A 2A', '4C 3G 3C'], ['4C 3G 3E', '4C 3G 2G', '3A# 3F# 3C# 2F#', '4D 3G 2G', '5D 4G 3G', '4D 3G 2G', '4B 4G 3G', '3A 3G 2A'], ['4D 3G 3C', '4C 3A 3D# 2F#', '3A 3E 2B', '3B 3G 2E', '5D 4D 3G', '3A 3F# 3D', '5C 4G 4E', '4B 4G 3E'], ['4E 3A 3F# 2F#', '4C 3G# 3D# 3C', '4F 4D 3A#', '4C 3G 2G', '4D# 4C 3G#', '4D 3G 3E', '3A# 3F# 3C#', '4C# 3G# 3D#'], ['4D 3B 3F# 2B', '5D 4F# 4D', '3B 3G 3D 2G', '4F 4D 2A#', '4C# 3A 3E 2A', '4C# 3A 3E 2F#', '4D 3G 2G', '4C 3D 2G'], ['4E 3A 3F# 2F#', '4D 3G 2G', '4D 3F# 2B', '4C 3A 2F', '3A 3G 2A', '4D 3A 3F# 2F#', '3B 3G 3D 2G', '4C 3A 3F'], ['4C# 3A 3E 2A', '3G# 3D# 2G#', '3B 3G 3D', '3B 3G 2G', '5C 4G 4E', '4C 3G 3C', '4C 3G 3E', '4D 3G 3E 3C'], ['4C 3G 3F#', '4D# 4C 2G#', '4C 3A 2F', '4C# 3G# 3D#', '3B 3F# 2B', '3B 3A 2A', '3G 3D 2G', '5A 5E 4F# 4C#']] [['(2,10) (3,7) (6,7)', '(2,1) (3,0) (4,2)', '(2,1) (3,0) (6,3)', '(2,2) (3,0) (6,2)', '(2,1) (3,0) (6,3)', '(2,3) (4,2) (6,1)', '(2,1) (3,0) (5,3)', '(2,10) (3,7) (4,7)'], ['(2,7) (3,4) (6,4)', '(3,2) (4,0) (5,2)', '(2,2) (3,2) (4,2) (5,0)', '(2,3) (3,2) (6,1)', '(3,4) (4,4) (5,2)', '(2,12) (3,11) (4,12) (5,10)', '(2,6) (3,7) (4,8)', '(2,1) (3,0) (4,2) (5,3)'], ['(3,2) (4,4) (5,2)', '(2,10) (3,9) (5,9)', '(3,7) (4,7) (6,7)', '(2,4) (3,5) (6,4)', '(2,3) (3,2) (6,1)', '(2,6) (3,7) (6,6)', '(2,3) (3,1) (4,2) (5,2) (6,0)', '(2,1) (3,0) (5,3)'], ['(2,1) (3,0) (4,2) (5,3)', '(2,0) (4,4) (5,4)', '(2,3) (3,0) (6,3)', '(2,1) (3,0) (4,2)', '(2,9) (3,7) (5,7)', '(2,6) (3,7) (4,8)', '(2,1) (3,2) (5,0)', '(2,1) (3,2) (4,3)'], ['(2,3) (3,2) (4,3) (5,2)', '(2,3) (3,0) (6,3)', '(2,0) (3,0) (4,2)', '(2,1) (3,0) (4,2)', '(2,3) (3,0) (4,4)', '(2,1) (3,2) (4,3)', '(2,2) (5,9) (4,1)', '(2,3) (3,0) (4,2)'], ['(2,1) (3,0) (6,0)', '(2,0) (4,4) (5,4)', '(2,5) (3,2) (4,4) (5,2)', '(2,1) (3,0) (6,3)', '(2,0) (3,0) (4,0)', '(2,1) (3,2) (4,3)', '(2,10) (3,9) (5,9)', '(3,0) (4,0) (5,0) (6,1)'], ['(2,3) (3,2) (4,0) (6,2)', '(2,1) (3,2) (5,0)', '(2,3) (3,2) (4,3) (6,1)', '(3,0) (4,2) (5,3)', '(2,1) (4,3) (6,3)', '(2,1) (3,2) (6,1)', '(2,1) (3,0) (4,2)', '(2,4) (3,5) (6,4)'], ['(2,2) (3,0) (6,5)', '(2,1) (3,0) (4,2) (5,3)', '(2,0) (3,0) (6,0)', '(2,0) (3,0) (5,0)', '(2,1) (3,0) (4,2) (5,3)', '(2,4) (3,5) (4,6)', '(2,3) (3,2) (4,2)', '(2,0) (3,0) (4,2)'], ['(2,3) (3,2) (4,5) (5,5)', '(2,3) (3,0) (4,0) (6,3)', '(2,5) (3,2) (4,2) (6,2)', '(2,0) (3,0) (6,3)', '(2,12) (3,11) (4,12) (5,10)', '(3,0) (4,0) (6,2)', '(2,0) (3,2) (5,0)', '(3,5) (4,5) (5,3)'], ['(2,1) (3,0) (4,2)', '(2,1) (3,0) (6,3)', '(3,3) (4,4) (5,4) (6,2)', '(2,3) (3,0) (6,3)', '(2,3) (3,0) (6,3)', '(2,3) (3,0) (6,3)', '(2,0) (3,0) (6,3)', '(2,0) (3,0) (5,0)'], ['(2,3) (3,0) (5,3)', '(2,1) (3,2) (4,1) (6,2)', '(3,2) (4,2) (5,2)', '(2,0) (3,0) (6,0)', '(2,3) (4,0) (6,3)', '(3,2) (4,4) (5,5)', '(2,1) (3,0) (4,2)', '(2,0) (3,0) (6,0)'], ['(2,5) (3,2) (4,4) (6,2)', '(2,1) (3,1) (4,1) (5,3)', '(2,6) (3,7) (4,8)', '(2,1) (3,0) (6,3)', '(2,4) (3,5) (4,6)', '(2,3) (3,0) (4,2)', '(3,3) (4,4) (5,4)', '(2,2) (3,1) (4,1)'], ['(2,3) (3,4) (4,4) (5,2)', '(2,3) (4,4) (5,5)', '(2,0) (3,0) (4,0) (6,3)', '(2,6) (3,7) (6,6)', '(2,2) (3,2) (4,2) (5,0)', '(2,2) (3,2) (4,2) (6,2)', '(2,3) (3,0) (6,3)', '(2,3) (4,0) (6,3)'], ['(2,5) (3,2) (4,4) (6,2)', '(2,3) (3,0) (6,3)', '(3,7) (5,9) (6,7)', '(2,1) (3,2) (6,1)', '(2,0) (3,0) (5,0)', '(2,3) (3,2) (4,4) (6,2)', '(2,0) (3,0) (4,0) (6,3)', '(2,1) (3,2) (4,3)'], ['(2,2) (3,2) (4,2) (5,0)', '(3,1) (4,1) (6,4)', '(2,0) (3,0) (4,0)', '(2,2) (3,0) (6,5)', '(2,1) (3,0) (4,2)', '(2,1) (3,0) (5,3)', '(2,1) (3,0) (4,2)', '(2,3) (3,0) (4,2) (5,3)'], ['(2,3) (3,0) (4,4)', '(2,4) (3,5) (6,4)', '(2,1) (3,2) (6,1)', '(2,2) (3,1) (4,1)', '(3,4) (4,4) (5,2)', '(2,0) (3,2) (5,0)', '(3,0) (4,0) (6,3)', '(2,10) (3,9) (5,9) (6,9)']] [[0.5, 0.5, 0.5, 0.5, 0.5, 0.5, 0.5, 0.5], [0.5, 0.5, 0.5, 0.5, 0.5, 0.5, 0.5, 0.5], [0.5, 0.5, 0.5, 0.5, 0.5, 0.5, 0.5, 0.5], [0.5, 0.5, 0.5, 0.5, 0.5, 0.5, 0.5, 0.5], [0.5, 0.5, 0.5, 0.5, 0.5, 0.5, 0.5, 0.5], [0.5, 0.5, 0.5, 0.5, 0.5, 0.5, 0.5, 0.5], [0.5, 0.5, 0.5, 0.5, 0.5, 0.5, 0.5, 0.5], [0.5, 0.5, 0.5, 0.5, 0.5, 0.5, 0.5, 0.5], [0.5, 0.5, 0.5, 0.5, 0.5, 0.5, 0.5, 0.5], [0.5, 0.5, 0.5, 0.5, 0.5, 0.5, 0.5, 0.5], [0.5, 0.5, 0.5, 0.5, 0.5, 0.5, 0.5, 0.5], [0.5, 0.5, 0.5, 0.5, 0.5, 0.5, 0.5, 0.5], [0.5, 0.5, 0.5, 0.5, 0.5, 0.5, 0.5, 0.5], [0.5, 0.5, 0.5, 0.5, 0.5, 0.5, 0.5, 0.5], [0.5, 0.5, 0.5, 0.5, 0.5, 0.5, 0.5, 0.5], [0.5, 0.5, 0.5, 0.5, 0.5, 0.5, 0.5, 0.5]]\n"
     ]
    }
   ],
   "source": [
    "print(pitchset,fingerset,  timesigset)"
   ]
  },
  {
   "cell_type": "code",
   "execution_count": 10,
   "id": "50370667-381b-4699-9d21-5f1e1cf2b03b",
   "metadata": {},
   "outputs": [
    {
     "data": {
      "text/plain": [
       "('4A 4D 2B', '(2,10) (3,7) (6,7)')"
      ]
     },
     "execution_count": 10,
     "metadata": {},
     "output_type": "execute_result"
    }
   ],
   "source": [
    "all_chord[0]"
   ]
  },
  {
   "cell_type": "code",
   "execution_count": 11,
   "id": "e8e38534-59df-475f-82a2-117fc305c4d3",
   "metadata": {},
   "outputs": [
    {
     "data": {
      "text/plain": [
       "'4C#'"
      ]
     },
     "execution_count": 11,
     "metadata": {},
     "output_type": "execute_result"
    }
   ],
   "source": [
    "midi2str(finger2midi('(2,2)'))"
   ]
  },
  {
   "cell_type": "code",
   "execution_count": 12,
   "id": "90c6eb68-ab2f-44cb-9951-c2fc80cdd4ca",
   "metadata": {},
   "outputs": [],
   "source": [
    "from xml.dom import minidom\n",
    "from xml.dom.minidom import parse\n",
    "domtree = parse(path + '\\\\new_head.xml')\n",
    "notelist = make_notes(domtree, pitch_cu='4C 3C', finger_cu='(2,1) (5,3)', timesig=0.5, divisions=4)"
   ]
  },
  {
   "cell_type": "code",
   "execution_count": 13,
   "id": "d6901b8d-1075-4a9d-be99-f7ff0e01925e",
   "metadata": {},
   "outputs": [
    {
     "ename": "ValueError",
     "evalue": "invalid literal for int() with base 10: '2.0'",
     "output_type": "error",
     "traceback": [
      "\u001b[1;31m---------------------------------------------------------------------------\u001b[0m",
      "\u001b[1;31mValueError\u001b[0m                                Traceback (most recent call last)",
      "\u001b[1;32m~\\AppData\\Local\\Temp/ipykernel_19664/609170759.py\u001b[0m in \u001b[0;36m<module>\u001b[1;34m\u001b[0m\n\u001b[0;32m      1\u001b[0m \u001b[0mfirst_measure\u001b[0m \u001b[1;33m=\u001b[0m \u001b[0mdomtree\u001b[0m\u001b[1;33m.\u001b[0m\u001b[0mgetElementsByTagName\u001b[0m\u001b[1;33m(\u001b[0m\u001b[1;34m'measure'\u001b[0m\u001b[1;33m)\u001b[0m\u001b[1;33m[\u001b[0m\u001b[1;36m0\u001b[0m\u001b[1;33m]\u001b[0m\u001b[1;33m\u001b[0m\u001b[1;33m\u001b[0m\u001b[0m\n\u001b[1;32m----> 2\u001b[1;33m \u001b[0msum\u001b[0m\u001b[1;33m(\u001b[0m\u001b[1;33m[\u001b[0m\u001b[0mint\u001b[0m\u001b[1;33m(\u001b[0m\u001b[0mnode\u001b[0m\u001b[1;33m.\u001b[0m\u001b[0mgetElementsByTagName\u001b[0m\u001b[1;33m(\u001b[0m\u001b[1;34m'duration'\u001b[0m\u001b[1;33m)\u001b[0m\u001b[1;33m[\u001b[0m\u001b[1;36m0\u001b[0m\u001b[1;33m]\u001b[0m\u001b[1;33m.\u001b[0m\u001b[0mfirstChild\u001b[0m\u001b[1;33m.\u001b[0m\u001b[0mdata\u001b[0m\u001b[1;33m)\u001b[0m \u001b[1;32mfor\u001b[0m \u001b[0mnode\u001b[0m \u001b[1;32min\u001b[0m \u001b[0mfirst_measure\u001b[0m\u001b[1;33m.\u001b[0m\u001b[0mchildNodes\u001b[0m \u001b[1;32mif\u001b[0m \u001b[0mnode\u001b[0m\u001b[1;33m.\u001b[0m\u001b[0mnodeName\u001b[0m\u001b[1;33m==\u001b[0m\u001b[1;34m'note'\u001b[0m\u001b[1;33m]\u001b[0m\u001b[1;33m)\u001b[0m\u001b[1;33m\u001b[0m\u001b[1;33m\u001b[0m\u001b[0m\n\u001b[0m",
      "\u001b[1;32m~\\AppData\\Local\\Temp/ipykernel_19664/609170759.py\u001b[0m in \u001b[0;36m<listcomp>\u001b[1;34m(.0)\u001b[0m\n\u001b[0;32m      1\u001b[0m \u001b[0mfirst_measure\u001b[0m \u001b[1;33m=\u001b[0m \u001b[0mdomtree\u001b[0m\u001b[1;33m.\u001b[0m\u001b[0mgetElementsByTagName\u001b[0m\u001b[1;33m(\u001b[0m\u001b[1;34m'measure'\u001b[0m\u001b[1;33m)\u001b[0m\u001b[1;33m[\u001b[0m\u001b[1;36m0\u001b[0m\u001b[1;33m]\u001b[0m\u001b[1;33m\u001b[0m\u001b[1;33m\u001b[0m\u001b[0m\n\u001b[1;32m----> 2\u001b[1;33m \u001b[0msum\u001b[0m\u001b[1;33m(\u001b[0m\u001b[1;33m[\u001b[0m\u001b[0mint\u001b[0m\u001b[1;33m(\u001b[0m\u001b[0mnode\u001b[0m\u001b[1;33m.\u001b[0m\u001b[0mgetElementsByTagName\u001b[0m\u001b[1;33m(\u001b[0m\u001b[1;34m'duration'\u001b[0m\u001b[1;33m)\u001b[0m\u001b[1;33m[\u001b[0m\u001b[1;36m0\u001b[0m\u001b[1;33m]\u001b[0m\u001b[1;33m.\u001b[0m\u001b[0mfirstChild\u001b[0m\u001b[1;33m.\u001b[0m\u001b[0mdata\u001b[0m\u001b[1;33m)\u001b[0m \u001b[1;32mfor\u001b[0m \u001b[0mnode\u001b[0m \u001b[1;32min\u001b[0m \u001b[0mfirst_measure\u001b[0m\u001b[1;33m.\u001b[0m\u001b[0mchildNodes\u001b[0m \u001b[1;32mif\u001b[0m \u001b[0mnode\u001b[0m\u001b[1;33m.\u001b[0m\u001b[0mnodeName\u001b[0m\u001b[1;33m==\u001b[0m\u001b[1;34m'note'\u001b[0m\u001b[1;33m]\u001b[0m\u001b[1;33m)\u001b[0m\u001b[1;33m\u001b[0m\u001b[1;33m\u001b[0m\u001b[0m\n\u001b[0m",
      "\u001b[1;31mValueError\u001b[0m: invalid literal for int() with base 10: '2.0'"
     ]
    }
   ],
   "source": [
    "first_measure = domtree.getElementsByTagName('measure')[0]\n",
    "sum([int(node.getElementsByTagName('duration')[0].firstChild.data) for node in first_measure.childNodes if node.nodeName=='note'])"
   ]
  },
  {
   "cell_type": "code",
   "execution_count": null,
   "id": "bedc1ee8-dbc6-49b0-be66-05fa59ac4ee7",
   "metadata": {},
   "outputs": [],
   "source": [
    "notelist[0].getElementsByTagName('duration')[0].firstChild.data"
   ]
  },
  {
   "cell_type": "code",
   "execution_count": null,
   "id": "4441c79f-0d64-46fc-83ae-c4423d15b4e3",
   "metadata": {},
   "outputs": [],
   "source": [
    "typedict = {\n",
    "            'whole':1,\n",
    "            'half':0.5,\n",
    "            'quarter':0.25,\n",
    "            'eighth':0.125,  \n",
    "            '16th':0.0625\n",
    "        }\n",
    "typename = lambda type1: [key for key, value in typedict.items() if value == type1]"
   ]
  },
  {
   "cell_type": "code",
   "execution_count": null,
   "id": "a4cea7bd-3bd8-4809-bb66-bfc07e3ae967",
   "metadata": {},
   "outputs": [],
   "source": [
    "typedict.values()"
   ]
  },
  {
   "cell_type": "code",
   "execution_count": null,
   "id": "16cd756e-0ea8-42d5-8441-3cd92bbf92ad",
   "metadata": {},
   "outputs": [],
   "source": [
    "float(0.5)"
   ]
  }
 ],
 "metadata": {
  "kernelspec": {
   "display_name": "Python 3 (ipykernel)",
   "language": "python",
   "name": "python3"
  },
  "language_info": {
   "codemirror_mode": {
    "name": "ipython",
    "version": 3
   },
   "file_extension": ".py",
   "mimetype": "text/x-python",
   "name": "python",
   "nbconvert_exporter": "python",
   "pygments_lexer": "ipython3",
   "version": "3.9.7"
  }
 },
 "nbformat": 4,
 "nbformat_minor": 5
}
