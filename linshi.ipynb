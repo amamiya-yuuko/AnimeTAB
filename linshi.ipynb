{
 "cells": [
  {
   "cell_type": "code",
   "execution_count": 1,
   "id": "e29961e5-5ac6-446b-a96b-eed7530fb9b8",
   "metadata": {},
   "outputs": [],
   "source": [
    "from TABprocessor import *\n",
    "import os"
   ]
  },
  {
   "cell_type": "code",
   "execution_count": 2,
   "id": "a8fca875-b258-4ce5-b412-76512428a244",
   "metadata": {},
   "outputs": [
    {
     "name": "stdout",
     "output_type": "stream",
     "text": [
      "#####0. [Angel Beats!]一番の宝物_1^8 I.xml\n"
     ]
    },
    {
     "data": {
      "text/plain": [
       "[['4F 4C 3B- 3F 2B-', '3B-', '4C', '4F'],\n",
       " ['4C 3G 3C', '4C', '4C', '4F', '4C'],\n",
       " ['4C 3G 2A 2A', '3G', '4C', '4F', '4C'],\n",
       " ['4C 3A 3F 3C 2F', '4C 3B- 3F 3C 2F', '4C 3A 3F 3C 2F', '4C 3A 3F 3C 2F'],\n",
       " ['4F 4C 3B- 3F 2B-', '3F', '3B-', '4F'],\n",
       " ['4C 3G 3C', '4C', '4C', '4F'],\n",
       " ['4F 4D 3A 3D', '3A', '4F', '4D', '3A'],\n",
       " ['4F 4C 3A 3D', '4F 4C 3A 3F 3C 2F']]"
      ]
     },
     "execution_count": 2,
     "metadata": {},
     "output_type": "execute_result"
    }
   ],
   "source": [
    "songs = readTAB('C:\\\\Users\\\\28056\\\\Desktop\\\\研究生\\\\Master Design\\\\test\\\\')\n",
    "songs[0].pitch"
   ]
  },
  {
   "cell_type": "code",
   "execution_count": 13,
   "id": "93fff9bc-9879-433d-98fd-0afd508efb18",
   "metadata": {},
   "outputs": [],
   "source": [
    "filepath = os.getcwd() + '\\\\testxml.xml'\n",
    "measurelist = generateTAB(songs[0].pitch, songs[0].finger, songs[0].time, filepath=filepath)"
   ]
  },
  {
   "cell_type": "code",
   "execution_count": 4,
   "id": "eaea1283-cb9e-4fb1-8ab1-a1d88a344987",
   "metadata": {},
   "outputs": [
    {
     "name": "stdout",
     "output_type": "stream",
     "text": [
      "[<DOM Element: note at 0x177b6dc0dc0>, <DOM Element: note at 0x177b6dc0d30>, <DOM Element: note at 0x177b6dc3040>, <DOM Element: note at 0x177b6dc3670>, <DOM Element: note at 0x177b6dc35e0>]\n",
      "[<DOM Element: note at 0x177b6dca0d0>]\n",
      "[<DOM Element: note at 0x177b6dcab80>]\n",
      "quarter\n",
      "原duration：16\n",
      "现duration:8\n",
      "[<DOM Element: note at 0x177b6dcc5e0>, <DOM Element: note at 0x177b6dce700>]\n",
      "[<DOM Element: note at 0x177b6dd0820>, <DOM Element: note at 0x177b6dd0790>, <DOM Element: note at 0x177b6dd0a60>]\n",
      "[<DOM Element: note at 0x177b6dd85e0>]\n",
      "[<DOM Element: note at 0x177b6dd9040>]\n",
      "[<DOM Element: note at 0x177b6dd9a60>]\n",
      "[<DOM Element: note at 0x177b6ddc4c0>]\n",
      "[<DOM Element: note at 0x177b6ddd040>, <DOM Element: note at 0x177b6ddcf70>, <DOM Element: note at 0x177b6ddd280>, <DOM Element: note at 0x177b6ddd550>]\n",
      "[<DOM Element: note at 0x177b6de0e50>]\n",
      "[<DOM Element: note at 0x177b6de38b0>]\n",
      "[<DOM Element: note at 0x177b6de4310>]\n",
      "[<DOM Element: note at 0x177b6de4d30>]\n",
      "quarter\n",
      "原duration：16\n",
      "现duration:8\n",
      "quarter\n",
      "原duration：16\n",
      "现duration:8\n",
      "quarter\n",
      "原duration：16\n",
      "现duration:8\n",
      "quarter\n",
      "原duration：16\n",
      "现duration:8\n",
      "quarter\n",
      "原duration：16\n",
      "现duration:8\n",
      "[<DOM Element: note at 0x177b6de78b0>, <DOM Element: note at 0x177b6de7820>, <DOM Element: note at 0x177b6de7af0>, <DOM Element: note at 0x177b6de7dc0>, <DOM Element: note at 0x177b6de80d0>, <DOM Element: note at 0x177b6df00d0>, <DOM Element: note at 0x177b6df33a0>, <DOM Element: note at 0x177b6df4700>, <DOM Element: note at 0x177b6df7a60>, <DOM Element: note at 0x177b6df9dc0>]\n",
      "[<DOM Element: note at 0x177b6de3820>, <DOM Element: note at 0x177b6de3af0>, <DOM Element: note at 0x177b6dd8f70>, <DOM Element: note at 0x177b6dd9280>, <DOM Element: note at 0x177b6dcc820>]\n",
      "[<DOM Element: note at 0x177b6dfcf70>, <DOM Element: note at 0x177b6dfcb80>, <DOM Element: note at 0x177b6df99d0>, <DOM Element: note at 0x177b6df9790>, <DOM Element: note at 0x177b6df94c0>]\n",
      "[<DOM Element: note at 0x177b6e08f70>, <DOM Element: note at 0x177b6e08ee0>, <DOM Element: note at 0x177b6e091f0>, <DOM Element: note at 0x177b6e094c0>, <DOM Element: note at 0x177b6e09790>]\n",
      "[<DOM Element: note at 0x177b6e101f0>, <DOM Element: note at 0x177b6e10160>, <DOM Element: note at 0x177b6e10430>, <DOM Element: note at 0x177b6e10a60>, <DOM Element: note at 0x177b6e109d0>]\n",
      "[<DOM Element: note at 0x177b6e18430>]\n",
      "[<DOM Element: note at 0x177b6e18e50>]\n",
      "quarter\n",
      "原duration：16\n",
      "现duration:8\n",
      "[<DOM Element: note at 0x177b6e09a60>, <DOM Element: note at 0x177b6e1d4c0>]\n",
      "[<DOM Element: note at 0x177b6e1e5e0>, <DOM Element: note at 0x177b6e1e550>, <DOM Element: note at 0x177b6e1e820>]\n",
      "[<DOM Element: note at 0x177b6e243a0>]\n",
      "[<DOM Element: note at 0x177b6e24dc0>]\n",
      "quarter\n",
      "原duration：16\n",
      "现duration:8\n",
      "[<DOM Element: note at 0x177b6e26820>, <DOM Element: note at 0x177b6e1d3a0>]\n",
      "[<DOM Element: note at 0x177b6e2c160>, <DOM Element: note at 0x177b6e2c0d0>, <DOM Element: note at 0x177b6e2c3a0>, <DOM Element: note at 0x177b6e2c670>]\n",
      "[<DOM Element: note at 0x177b6e308b0>]\n",
      "[<DOM Element: note at 0x177b6e33310>]\n",
      "[<DOM Element: note at 0x177b6e33d30>]\n",
      "[<DOM Element: note at 0x177b6e36790>]\n",
      "[<DOM Element: note at 0x177b6e38310>, <DOM Element: note at 0x177b6e38280>, <DOM Element: note at 0x177b6e38550>, <DOM Element: note at 0x177b6e38820>]\n",
      "[<DOM Element: note at 0x177b6e3ca60>, <DOM Element: note at 0x177b6e3c9d0>, <DOM Element: note at 0x177b6e3cca0>, <DOM Element: note at 0x177b6e3cf70>, <DOM Element: note at 0x177b6e3e280>, <DOM Element: note at 0x177b6e3e550>]\n",
      "文件已保存为C:\\Users\\28056\\Desktop\\研究生\\AnimeTAB\\AnimeTABtextxml.xml\n"
     ]
    },
    {
     "data": {
      "text/plain": [
       "[<DOM Element: measure at 0x177b6dc0790>,\n",
       " <DOM Element: measure at 0x177b6dc0820>,\n",
       " <DOM Element: measure at 0x177b6dc08b0>,\n",
       " <DOM Element: measure at 0x177b6dc0940>,\n",
       " <DOM Element: measure at 0x177b6dc09d0>,\n",
       " <DOM Element: measure at 0x177b6dc0a60>,\n",
       " <DOM Element: measure at 0x177b6dc0af0>]"
      ]
     },
     "execution_count": 4,
     "metadata": {},
     "output_type": "execute_result"
    }
   ],
   "source": [
    "songs[0].writeTAB(os.getcwd() + '\\\\textxml.xml')"
   ]
  }
 ],
 "metadata": {
  "kernelspec": {
   "display_name": "Python 3 (ipykernel)",
   "language": "python",
   "name": "python3"
  },
  "language_info": {
   "codemirror_mode": {
    "name": "ipython",
    "version": 3
   },
   "file_extension": ".py",
   "mimetype": "text/x-python",
   "name": "python",
   "nbconvert_exporter": "python",
   "pygments_lexer": "ipython3",
   "version": "3.9.7"
  }
 },
 "nbformat": 4,
 "nbformat_minor": 5
}
