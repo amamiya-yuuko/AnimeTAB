{
 "cells": [
  {
   "cell_type": "code",
   "execution_count": 1,
   "id": "447ddf43-7c99-4b95-ae6c-8ae64bf6d10e",
   "metadata": {},
   "outputs": [],
   "source": [
    "import TAB_generator\n",
    "from TAB_generator import *\n",
    "import os\n",
    "path = os.getcwd()"
   ]
  },
  {
   "cell_type": "code",
   "execution_count": 2,
   "id": "3a7da9bb-f5d9-40d5-b918-1a4b79bb3dbf",
   "metadata": {},
   "outputs": [
    {
     "name": "stdout",
     "output_type": "stream",
     "text": [
      "[1, 0.5, 0.125]\n",
      "noteNodelist长度:2\n",
      "duration: <DOM Text node \"'4'\">\n",
      "这个音符的type是 ['quarter']\n",
      "duration: <DOM Text node \"'4'\">\n",
      "这个音符的type是 ['quarter']\n",
      "[<DOM Element: duration at 0x27d0f41c9d0>]\n",
      "[<DOM Element: duration at 0x27d0f42e1f0>]\n",
      "midtienum:1\n",
      "第0连接音符 被添加duraion=0.5\n",
      "添加endNode：\n"
     ]
    }
   ],
   "source": [
    "from xml.dom import minidom\n",
    "from xml.dom.minidom import parse\n",
    "domtree = parse(path + '\\\\head.xml')\n",
    "notelist = make_notes(domtree, pitch_cu='4C 3C', finger_cu='(2,1) (5,3)', timesig=1+0.5+0.25, divisions=4)"
   ]
  },
  {
   "cell_type": "code",
   "execution_count": 4,
   "id": "460b4f74-e3b8-43a8-8223-3e1247f1e550",
   "metadata": {},
   "outputs": [],
   "source": [
    "len(notelist)"
   ]
  },
  {
   "cell_type": "code",
   "execution_count": 16,
   "id": "7851214e-f90c-47e0-b8ed-5577f9493251",
   "metadata": {},
   "outputs": [
    {
     "name": "stdout",
     "output_type": "stream",
     "text": [
      "<DOM Element: pitch at 0x27d0f41c160>\n",
      "\n",
      "<DOM Element: chord at 0x27d0f41c550>\n",
      "\n",
      "<DOM Element: pitch at 0x27d0f41c160>\n",
      "\n",
      "<DOM Element: chord at 0x27d0f41c550>\n",
      "\n",
      "<DOM Element: pitch at 0x27d0f41c160>\n",
      "\n",
      "<DOM Element: chord at 0x27d0f41c550>\n",
      "\n"
     ]
    }
   ],
   "source": [
    "for node in notelist:\n",
    "    print(node.firstChild)\n",
    "    print()"
   ]
  },
  {
   "cell_type": "code",
   "execution_count": 18,
   "id": "785e8a91-90e4-4037-8b8f-d229d8368ffb",
   "metadata": {},
   "outputs": [],
   "source": [
    "def show_Nodes(Nodes, filename='show'):\n",
    "    doc = minidom.Document()\n",
    "    domtree =doc.createElement('domtree')\n",
    "    for i, node in enumerate(Nodes):\n",
    "        domtree.appendChild(node)\n",
    "        \n",
    "    path = os.getcwd() + '\\\\{}.xml'.format(filename)\n",
    "    with open(path, 'w', encoding='utf-8') as f:\n",
    "        domtree.writexml(f, addindent=' ', newl='\\n')\n",
    "        \n",
    "show_Nodes(notelist)"
   ]
  },
  {
   "cell_type": "code",
   "execution_count": null,
   "id": "d842e483-8f91-4020-9626-681a65a68f5c",
   "metadata": {},
   "outputs": [],
   "source": [
    "#一会删掉这\n",
    "pitchset, fingerset, timesigset = [['4C', '4C', '4C', 'R', '4C']], [['(2,1)', '(2,1)', '(2,1)', '(R,R)', '(2,1)']], [[0.5, 0.5, 1, 1, 1]]\n",
    "####\n",
    "generateTAB(pitchset,fingerset,  timesigset, filepath=path + '\\\\head.xml')"
   ]
  },
  {
   "cell_type": "code",
   "execution_count": 5,
   "id": "1534b617-b331-4473-95b0-c62a59d4d1e9",
   "metadata": {},
   "outputs": [
    {
     "name": "stdout",
     "output_type": "stream",
     "text": [
      "[0.25, 0.125]\n"
     ]
    }
   ],
   "source": [
    "timesig=1.6\n",
    "res = []\n",
    "num = timesig / 4\n",
    "while num >= 1:\n",
    "    res.append(1)\n",
    "    num -= 1\n",
    "while num >= 0.5:\n",
    "    res.append(0.5)\n",
    "    num -= 0.5\n",
    "while num >= 0.25:\n",
    "    res.append(0.25)\n",
    "    num -= 0.25\n",
    "while num >= 0.125:\n",
    "    res.append(0.125)\n",
    "    num -= 0.125\n",
    "while num >= 0.0625:\n",
    "    res.append(0.0625)\n",
    "    num -= 0.0625\n",
    "print(res)"
   ]
  },
  {
   "cell_type": "code",
   "execution_count": 2,
   "id": "a375c066-61c8-4fb1-b709-34ff20eea3cf",
   "metadata": {},
   "outputs": [
    {
     "name": "stdout",
     "output_type": "stream",
     "text": [
      "#####0. a[Air]鸟之诗1^9I.xml\n",
      "#####1. a[圣斗士]原谅我 1^14A.xml\n",
      "#####2. A[日在校园]悲しみの向こうへ(向着悲伤的彼方)18^26B.xml\n",
      "#####3. a[植物大战僵尸]Grasswalk1^8A.xml\n",
      "#####4. a[植物大战僵尸]Graze the Roof11^18A.xml\n",
      "#####5. a[植物大战僵尸]植物保龄球 1^13A.xml\n",
      "#####6. a[猎人]魂魄之挽歌C调 10^17A.xml\n",
      "    ! In measure 0, sum of timesig should be 3.0, but6.0\n",
      "    ! In measure 1, sum of timesig should be 3.0, but6.0\n",
      "    ! In measure 2, sum of timesig should be 3.0, but6.0\n",
      "    ! In measure 3, sum of timesig should be 3.0, but6.0\n",
      "    ! In measure 4, sum of timesig should be 3.0, but6.0\n",
      "    ! In measure 5, sum of timesig should be 3.0, but6.0\n",
      "    ! In measure 6, sum of timesig should be 3.0, but6.0\n",
      "    ! In measure 7, sum of timesig should be 3.0, but6.0\n",
      "#####7. A[秒速五厘米]One more time One more chance1^4I.xml\n",
      "#####8. a[钢炼]兄弟3^10A.xml\n",
      "#####9. b[CLANNAD]欢乐岛1^15I.xml\n",
      "#####10. b[圣斗士]真红的少年 1^16A.xml\n",
      "#####11. b[魔法少女小圆]Connect18^33A.xml\n",
      "#####12. c#[无头骑士异闻录]コンプリケイション1^8I.xml\n",
      "#####13. C[Air]てんとう虫(瓢虫)2^5I.xml\n",
      "#####14. C[CLANNAD]东风1^9I.xml\n",
      "#####15. C[Little busters]Song for friends1^16A.xml\n",
      "    ! In measure 0, sum of timesig should be 3.5, but7.0\n",
      "    ! In measure 1, sum of timesig should be 3.5, but7.0\n",
      "    ! In measure 2, sum of timesig should be 3.5, but7.0\n",
      "    ! In measure 3, sum of timesig should be 3.5, but7.0\n",
      "    ! In measure 4, sum of timesig should be 3.5, but7.0\n",
      "    ! In measure 5, sum of timesig should be 3.5, but7.0\n",
      "    ! In measure 6, sum of timesig should be 3.5, but7.0\n",
      "    ! In measure 7, sum of timesig should be 3.5, but7.0\n",
      "    ! In measure 8, sum of timesig should be 3.5, but7.0\n",
      "    ! In measure 9, sum of timesig should be 3.5, but7.0\n",
      "    ! In measure 10, sum of timesig should be 3.5, but7.0\n",
      "    ! In measure 11, sum of timesig should be 3.5, but7.0\n",
      "    ! In measure 12, sum of timesig should be 3.5, but7.0\n",
      "    ! In measure 13, sum of timesig should be 3.5, but7.0\n",
      "    ! In measure 14, sum of timesig should be 3.5, but7.0\n",
      "    ! In measure 15, sum of timesig should be 3.5, but7.0\n",
      "#####16. C[化物语]恋爱サ キュレ ション1^13I.xml\n",
      "#####17. C[咲]咲OP33^47B.xml\n",
      "#####18. C[哈尔的移动城堡]世界的约定1^15I.xml\n",
      "#####19. C[喜羊羊与灰太狼]喜羊羊与灰太狼主题曲1^8I.xml\n",
      "#####20. C[数码宝贝]Butterfly13^28A.xml\n",
      "#####21. C[柯南]Time after time～花舞う街で～1^5I.xml\n",
      "#####22. C[泡泡堂]海盗船 1^8A.xml\n",
      "#####23. C[红猪]樱桃成熟时12^24A.xml\n",
      "#####24. C[龙猫]邻家的龙猫31^48B.xml\n",
      "#####25. D[Kanon]Last Regrets 17^32A.xml\n",
      "#####26. D[Kanon]夢の跡1^13A.xml\n",
      "#####27. D[水星领航员]Rainbow1^4I.xml\n",
      "#####28. D[秒速五厘米]想い出は遠くの日々(回忆遥远的往昔) 1^8I.xml\n",
      "#####29. D[青空下的约定]风のアルペジオ1^17A.xml\n",
      "#####30. E[Air]银色 16^27B.xml\n",
      "#####31. e[天空之城]月光的云海 1^13A.xml\n",
      "#####32. e[寒蝉鸣泣之时]叹息之森1^14I.xml\n",
      "#####33. E[死神]Life is Like a Boat 3^19A.xml\n",
      "#####34. E[青空下的约定]はぐれ雲のブルース1^18A.xml\n",
      "#####35. e[魔女宅急便]风之丘 4^19A.xml\n",
      "#####36. F[Air]夢語り 1^8A.xml\n",
      "#####37. g#[吸血鬼骑士]ふたつの鼓动と赤い罪1^18I.xml\n",
      "#####38. G[Air]回想录 9^20B.xml\n",
      "#####39. G[EVA]Fly me to the moon1^8I.xml\n",
      "#####40. G[KOKIA]ありがとう(谢谢)1^5I.xml\n",
      "#####41. G[凉宫]みくるのこころ 5^20B.xml\n",
      "#####42. G[化物语]君の知らない物語19^34A.xml\n",
      "#####43. G[好想告诉你]Pure white story5^20A.xml\n",
      "#####44. G[死神]HANABI(花火)1^20A.xml\n",
      "#####45. G[相聚一刻]予感6^17A.xml\n",
      "#####46. G[魔力女管家]归途 5^20A.xml\n"
     ]
    }
   ],
   "source": [
    "\n",
    "p, f, t = readTAB(path + '\\\\test\\\\')"
   ]
  },
  {
   "cell_type": "code",
   "execution_count": 3,
   "id": "d028aa42-9abf-4560-85ff-1e4cb4de46e3",
   "metadata": {},
   "outputs": [],
   "source": [
    "all_chord = []\n",
    "for songnum, song in enumerate(p):\n",
    "    for measurenum, measure in enumerate(song):\n",
    "        for pitchnum, pitchcu in enumerate(measure):\n",
    "            if len(pitchcu.split()) >= 3:\n",
    "                all_chord.append((pitchcu, f[songnum][measurenum][pitchnum]))\n",
    "                "
   ]
  },
  {
   "cell_type": "code",
   "execution_count": 4,
   "id": "ef3073a1-d4f7-4105-b654-4a0e8108deb3",
   "metadata": {},
   "outputs": [],
   "source": [
    "import random\n",
    "all_chord = random.sample(all_chord, 128)"
   ]
  },
  {
   "cell_type": "code",
   "execution_count": 5,
   "id": "37266169-5f59-44aa-8601-2c7e6167f842",
   "metadata": {},
   "outputs": [
    {
     "data": {
      "text/plain": [
       "('4G 3B 3G', '(3,0) (2,0) (1,3)')"
      ]
     },
     "execution_count": 5,
     "metadata": {},
     "output_type": "execute_result"
    }
   ],
   "source": [
    "all_chord[0]"
   ]
  },
  {
   "cell_type": "code",
   "execution_count": 6,
   "id": "66b4336d-a2b2-4138-9676-1dd7dca9cfae",
   "metadata": {},
   "outputs": [],
   "source": [
    "pitchset, fingerset, timesigset = [], [], []\n",
    "\n",
    "count = 0\n",
    "pitchmeasure = []\n",
    "fingermeasure = []\n",
    "for chord in all_chord:\n",
    "    count += 1\n",
    "    pitchmeasure.append(chord[0])\n",
    "    fingermeasure.append(chord[1])\n",
    "    \n",
    "    if count == 8:\n",
    "        count=0\n",
    "        pitchset.append(pitchmeasure)\n",
    "        fingerset.append(fingermeasure)\n",
    "        pitchmeasure = []\n",
    "        fingermeasure = []\n",
    "        \n",
    "for i in range(16):\n",
    "    timesigset.append([0.5, 0.5, 0.5, 0.5, 0.5, 0.5, 0.5, 0.5])\n",
    "    "
   ]
  },
  {
   "cell_type": "code",
   "execution_count": 7,
   "id": "55698b83-19fe-44f4-9276-53dae1d5c32d",
   "metadata": {},
   "outputs": [
    {
     "data": {
      "text/plain": [
       "[0.5, 0.5, 0.5, 0.5, 0.5, 0.5, 0.5, 0.5]"
      ]
     },
     "execution_count": 7,
     "metadata": {},
     "output_type": "execute_result"
    }
   ],
   "source": [
    "timesigset[0]"
   ]
  },
  {
   "cell_type": "code",
   "execution_count": 9,
   "id": "535f84ea-6070-4cb2-a26d-f57f73ff9085",
   "metadata": {},
   "outputs": [
    {
     "name": "stdout",
     "output_type": "stream",
     "text": [
      "0 processing...\n",
      "[]\n",
      "<function make_notes.<locals>.<lambda> at 0x0000020FD0C3B8B0>\n",
      "0 not in\n"
     ]
    },
    {
     "ename": "TypeError",
     "evalue": "unsupported operand type(s) for -: 'dict_values' and 'int'",
     "output_type": "error",
     "traceback": [
      "\u001b[1;31m---------------------------------------------------------------------------\u001b[0m",
      "\u001b[1;31mTypeError\u001b[0m                                 Traceback (most recent call last)",
      "\u001b[1;32m~\\AppData\\Local\\Temp/ipykernel_19980/4123095706.py\u001b[0m in \u001b[0;36m<module>\u001b[1;34m\u001b[0m\n\u001b[0;32m      4\u001b[0m \u001b[0mpitchset\u001b[0m\u001b[1;33m,\u001b[0m \u001b[0mfingerset\u001b[0m\u001b[1;33m,\u001b[0m \u001b[0mtimesigset\u001b[0m \u001b[1;33m=\u001b[0m \u001b[1;33m[\u001b[0m\u001b[1;33m[\u001b[0m\u001b[1;34m'4C'\u001b[0m\u001b[1;33m,\u001b[0m \u001b[1;34m'4C'\u001b[0m\u001b[1;33m,\u001b[0m \u001b[1;34m'4C'\u001b[0m\u001b[1;33m,\u001b[0m \u001b[1;34m'R'\u001b[0m\u001b[1;33m,\u001b[0m \u001b[1;34m'4C'\u001b[0m\u001b[1;33m]\u001b[0m\u001b[1;33m]\u001b[0m\u001b[1;33m,\u001b[0m \u001b[1;33m[\u001b[0m\u001b[1;33m[\u001b[0m\u001b[1;34m'(2,1)'\u001b[0m\u001b[1;33m,\u001b[0m \u001b[1;34m'(2,1)'\u001b[0m\u001b[1;33m,\u001b[0m \u001b[1;34m'(2,1)'\u001b[0m\u001b[1;33m,\u001b[0m \u001b[1;34m'(R,R)'\u001b[0m\u001b[1;33m,\u001b[0m \u001b[1;34m'(2,1)'\u001b[0m\u001b[1;33m]\u001b[0m\u001b[1;33m]\u001b[0m\u001b[1;33m,\u001b[0m \u001b[1;33m[\u001b[0m\u001b[1;33m[\u001b[0m\u001b[1;36m0\u001b[0m\u001b[1;33m,\u001b[0m\u001b[1;36m5\u001b[0m\u001b[1;33m,\u001b[0m \u001b[1;36m0\u001b[0m\u001b[1;33m,\u001b[0m\u001b[1;36m5\u001b[0m\u001b[1;33m,\u001b[0m \u001b[1;36m1\u001b[0m\u001b[1;33m,\u001b[0m \u001b[1;36m1\u001b[0m\u001b[1;33m,\u001b[0m \u001b[1;36m1\u001b[0m\u001b[1;33m]\u001b[0m\u001b[1;33m]\u001b[0m\u001b[1;33m\u001b[0m\u001b[1;33m\u001b[0m\u001b[0m\n\u001b[0;32m      5\u001b[0m \u001b[1;31m####\u001b[0m\u001b[1;33m\u001b[0m\u001b[1;33m\u001b[0m\u001b[0m\n\u001b[1;32m----> 6\u001b[1;33m \u001b[0mgenerateTAB\u001b[0m\u001b[1;33m(\u001b[0m\u001b[0mpitchset\u001b[0m\u001b[1;33m,\u001b[0m\u001b[0mfingerset\u001b[0m\u001b[1;33m,\u001b[0m  \u001b[0mtimesigset\u001b[0m\u001b[1;33m,\u001b[0m \u001b[0mfilepath\u001b[0m\u001b[1;33m=\u001b[0m\u001b[0mpath\u001b[0m \u001b[1;33m+\u001b[0m \u001b[1;34m'\\\\head.xml'\u001b[0m\u001b[1;33m)\u001b[0m\u001b[1;33m\u001b[0m\u001b[1;33m\u001b[0m\u001b[0m\n\u001b[0m",
      "\u001b[1;32m~\\Desktop\\研究生\\AnimeTAB\\AnimeTAB\\TAB_generator.py\u001b[0m in \u001b[0;36mgenerateTAB\u001b[1;34m(testnotes, testfingers, testtimes, filepath, divisions)\u001b[0m\n\u001b[0;32m    834\u001b[0m         \u001b[1;32mfor\u001b[0m \u001b[0mj\u001b[0m\u001b[1;33m,\u001b[0m \u001b[0mnote\u001b[0m \u001b[1;32min\u001b[0m \u001b[0menumerate\u001b[0m\u001b[1;33m(\u001b[0m\u001b[0mmeasurenote\u001b[0m\u001b[1;33m)\u001b[0m\u001b[1;33m:\u001b[0m\u001b[1;33m\u001b[0m\u001b[1;33m\u001b[0m\u001b[0m\n\u001b[0;32m    835\u001b[0m             \u001b[0mprint\u001b[0m\u001b[1;33m(\u001b[0m\u001b[1;34m'{} processing...'\u001b[0m\u001b[1;33m.\u001b[0m\u001b[0mformat\u001b[0m\u001b[1;33m(\u001b[0m\u001b[0mj\u001b[0m\u001b[1;33m)\u001b[0m\u001b[1;33m)\u001b[0m\u001b[1;33m\u001b[0m\u001b[1;33m\u001b[0m\u001b[0m\n\u001b[1;32m--> 836\u001b[1;33m             \u001b[0mnoteNodelist\u001b[0m \u001b[1;33m=\u001b[0m \u001b[0mmake_notes\u001b[0m\u001b[1;33m(\u001b[0m\u001b[0mdomtree\u001b[0m\u001b[1;33m,\u001b[0m \u001b[0mnote\u001b[0m\u001b[1;33m,\u001b[0m \u001b[0mtimesig\u001b[0m\u001b[1;33m=\u001b[0m\u001b[0mmeasuretime\u001b[0m\u001b[1;33m[\u001b[0m\u001b[0mj\u001b[0m\u001b[1;33m]\u001b[0m\u001b[1;33m,\u001b[0m \u001b[0mfinger_cu\u001b[0m\u001b[1;33m=\u001b[0m\u001b[0mmeasurefinger\u001b[0m\u001b[1;33m[\u001b[0m\u001b[0mj\u001b[0m\u001b[1;33m]\u001b[0m\u001b[1;33m,\u001b[0m \u001b[0mdivisions\u001b[0m\u001b[1;33m=\u001b[0m\u001b[0mdivisions\u001b[0m\u001b[1;33m)\u001b[0m\u001b[1;33m\u001b[0m\u001b[1;33m\u001b[0m\u001b[0m\n\u001b[0m\u001b[0;32m    837\u001b[0m             \u001b[0mgl_noteNodes\u001b[0m \u001b[1;33m=\u001b[0m \u001b[0mnoteNodelist\u001b[0m\u001b[1;33m\u001b[0m\u001b[1;33m\u001b[0m\u001b[0m\n\u001b[0;32m    838\u001b[0m             \u001b[1;31m#add_timesig(division=16, noteNodelist=noteNodelist, timesig=measuretime[j], finger_cu=measurefinger[j])\u001b[0m\u001b[1;33m\u001b[0m\u001b[1;33m\u001b[0m\u001b[0m\n",
      "\u001b[1;32m~\\Desktop\\研究生\\AnimeTAB\\AnimeTAB\\TAB_generator.py\u001b[0m in \u001b[0;36mmake_notes\u001b[1;34m(domtree, pitch_cu, timesig, finger_cu, divisions)\u001b[0m\n\u001b[0;32m    767\u001b[0m                 \u001b[0mif_dot\u001b[0m \u001b[1;33m=\u001b[0m \u001b[1;36m1\u001b[0m\u001b[1;33m\u001b[0m\u001b[1;33m\u001b[0m\u001b[0m\n\u001b[0;32m    768\u001b[0m             \u001b[1;32mif\u001b[0m \u001b[0mtypename\u001b[0m\u001b[1;33m(\u001b[0m\u001b[0mtimesig\u001b[0m \u001b[1;33m/\u001b[0m \u001b[1;36m1.5\u001b[0m\u001b[1;33m)\u001b[0m \u001b[1;33m==\u001b[0m \u001b[1;33m[\u001b[0m\u001b[1;33m]\u001b[0m\u001b[1;33m:\u001b[0m\u001b[1;33m\u001b[0m\u001b[1;33m\u001b[0m\u001b[0m\n\u001b[1;32m--> 769\u001b[1;33m                 \u001b[0mtypedict\u001b[0m\u001b[1;33m.\u001b[0m\u001b[0mvalues\u001b[0m\u001b[1;33m(\u001b[0m\u001b[1;33m)\u001b[0m\u001b[1;33m-\u001b[0m\u001b[0mtimesig\u001b[0m\u001b[1;33m\u001b[0m\u001b[1;33m\u001b[0m\u001b[0m\n\u001b[0m\u001b[0;32m    770\u001b[0m \u001b[1;33m\u001b[0m\u001b[0m\n\u001b[0;32m    771\u001b[0m         \u001b[1;31m#print(timesig)\u001b[0m\u001b[1;33m\u001b[0m\u001b[1;33m\u001b[0m\u001b[0m\n",
      "\u001b[1;31mTypeError\u001b[0m: unsupported operand type(s) for -: 'dict_values' and 'int'"
     ]
    }
   ],
   "source": [
    "global gl_noteNodes\n",
    "gl_noteNodes = None\n",
    "#一会删掉这\n",
    "pitchset, fingerset, timesigset = [['4C', '4C', '4C', 'R', '4C']], [['(2,1)', '(2,1)', '(2,1)', '(R,R)', '(2,1)']], [[0,5, 0,5, 1, 1, 1]]\n",
    "####\n",
    "generateTAB(pitchset,fingerset,  timesigset, filepath=path + '\\\\head.xml')"
   ]
  },
  {
   "cell_type": "code",
   "execution_count": null,
   "id": "90c6eb68-ab2f-44cb-9951-c2fc80cdd4ca",
   "metadata": {},
   "outputs": [],
   "source": [
    "from xml.dom import minidom\n",
    "from xml.dom.minidom import parse\n",
    "domtree = parse(path + '\\\\head.xml')\n",
    "notelist = make_notes(domtree, pitch_cu='4C 3C', finger_cu='(2,1) (5,3)', timesig=0.5, divisions=4)"
   ]
  },
  {
   "cell_type": "code",
   "execution_count": null,
   "id": "d6901b8d-1075-4a9d-be99-f7ff0e01925e",
   "metadata": {},
   "outputs": [],
   "source": [
    "print(notelist)"
   ]
  },
  {
   "cell_type": "code",
   "execution_count": null,
   "id": "bedc1ee8-dbc6-49b0-be66-05fa59ac4ee7",
   "metadata": {},
   "outputs": [],
   "source": [
    "notelist[0].getElementsByTagName('duration')[0].firstChild.data"
   ]
  },
  {
   "cell_type": "code",
   "execution_count": null,
   "id": "4441c79f-0d64-46fc-83ae-c4423d15b4e3",
   "metadata": {},
   "outputs": [],
   "source": [
    "typedict = {\n",
    "            'whole':1,\n",
    "            'half':0.5,\n",
    "            'quarter':0.25,\n",
    "            'eighth':0.125,  \n",
    "            '16th':0.0625\n",
    "        }\n",
    "typename = lambda type1: [key for key, value in typedict.items() if value == type1]"
   ]
  },
  {
   "cell_type": "code",
   "execution_count": null,
   "id": "a4cea7bd-3bd8-4809-bb66-bfc07e3ae967",
   "metadata": {},
   "outputs": [],
   "source": [
    "typedict.values()"
   ]
  },
  {
   "cell_type": "code",
   "execution_count": null,
   "id": "16cd756e-0ea8-42d5-8441-3cd92bbf92ad",
   "metadata": {},
   "outputs": [],
   "source": [
    "float(0.5)"
   ]
  }
 ],
 "metadata": {
  "kernelspec": {
   "display_name": "Python 3 (ipykernel)",
   "language": "python",
   "name": "python3"
  },
  "language_info": {
   "codemirror_mode": {
    "name": "ipython",
    "version": 3
   },
   "file_extension": ".py",
   "mimetype": "text/x-python",
   "name": "python",
   "nbconvert_exporter": "python",
   "pygments_lexer": "ipython3",
   "version": "3.9.7"
  }
 },
 "nbformat": 4,
 "nbformat_minor": 5
}
