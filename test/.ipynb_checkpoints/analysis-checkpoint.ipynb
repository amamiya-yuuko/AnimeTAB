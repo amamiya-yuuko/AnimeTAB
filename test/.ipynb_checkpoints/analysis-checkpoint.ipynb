{
 "cells": [
  {
   "cell_type": "code",
   "execution_count": 1,
   "id": "447ddf43-7c99-4b95-ae6c-8ae64bf6d10e",
   "metadata": {},
   "outputs": [],
   "source": [
    "import TAB_generator\n",
    "from TAB_generator import *\n",
    "import os\n",
    "path = os.getcwd()"
   ]
  },
  {
   "cell_type": "code",
   "execution_count": 2,
   "id": "bc3378eb-1cad-49b6-b699-a4e7339e918e",
   "metadata": {},
   "outputs": [
    {
     "name": "stdout",
     "output_type": "stream",
     "text": [
      "#####0. chord_recognize test.xml\n",
      "    ! In measure 16, sum of timesig should be 4.0, but0\n"
     ]
    }
   ],
   "source": [
    "#chord_recognize accurate test\n",
    "cp, cf, ct = readTAB(path + '\\\\test\\\\chord_recognize test\\\\')\n",
    "recognize_result = []\n",
    "_ = []\n",
    "for chord in split(cp[0]):\n",
    "    _.append(chord_recognize(chord))\n",
    "    \n",
    "    if len(_) == 8:\n",
    "        recognize_result.append(_)\n",
    "        _ = []\n",
    "        "
   ]
  },
  {
   "cell_type": "code",
   "execution_count": 7,
   "id": "94879793-dd17-4f26-a3d8-4eb6187248e2",
   "metadata": {},
   "outputs": [
    {
     "name": "stdout",
     "output_type": "stream",
     "text": [
      "=================================\n",
      "=================================\n",
      "measure2, note4 wrong: should `` Gsus ``, but`` Csus ``\n",
      "=================================\n",
      "=================================\n",
      "=================================\n",
      "measure5, note7 wrong: should `` Gsus ``, but`` NotChordNotChord ``\n",
      "=================================\n",
      "=================================\n",
      "measure7, note2 wrong: should `` Em7 ``, but`` NotChordNotChord ``\n",
      "=================================\n",
      "measure8, note0 wrong: should `` Asus ``, but`` NotChordNotChord ``\n",
      "measure8, note3 wrong: should `` Dsus ``, but`` Gsus ``\n",
      "=================================\n",
      "=================================\n",
      "measure10, note3 wrong: should `` Dsus ``, but`` Gsus ``\n",
      "=================================\n",
      "=================================\n",
      "measure12, note6 wrong: should `` Bsus4 ``, but`` NotChordNotChord ``\n",
      "=================================\n",
      "=================================\n",
      "measure14, note4 wrong: should `` Asus ``, but`` NotChordNotChord ``\n",
      "=================================\n",
      "measure15, note5 wrong: should `` Asus ``, but`` NotChordNotChord ``\n",
      "=================================\n"
     ]
    }
   ],
   "source": [
    "import pandas as pd\n",
    "yes, no, sus_ignore_no = 0, 0, 0\n",
    "truth = pd.read_csv('chord_recognize test.csv')\n",
    "for num1, measure in enumerate(recognize_result):\n",
    "    for num2, chord in enumerate(measure):\n",
    "        real = truth.iloc[num1][num2]\n",
    "        root, _type = 0, 0\n",
    "        if '#' in real:\n",
    "            root = real[:2]\n",
    "            _type = real[2:]\n",
    "        else:\n",
    "            root = real[:1]\n",
    "            _type = real[1:]\n",
    "        if _type == '':\n",
    "            _type = 'maj'\n",
    "        #print(\"/{}/, {}\".format(root, _type))\n",
    "        if real != 'N' and (chord[0] + chord[1] != root+_type):\n",
    "            no += 1\n",
    "            sus_ignore_no += 1\n",
    "            print('measure{}, note{} wrong: should `` {} ``, but`` {} ``'.format(num1, num2, root+_type, chord[0] + chord[1]))\n",
    "            if 'sus' in _type and 'sus' in chord[1]:\n",
    "                sus_ignore_no -= 1\n",
    "        elif chord[0] == root and chord[1] == _type and real != 'N':\n",
    "            yes += 1\n",
    "    print('=================================')\n",
    "            \n",
    " "
   ]
  },
  {
   "cell_type": "code",
   "execution_count": 8,
   "id": "a75827d8-3723-4187-a8a8-1cbecd488090",
   "metadata": {},
   "outputs": [
    {
     "name": "stdout",
     "output_type": "stream",
     "text": [
      "111 9 6\n"
     ]
    }
   ],
   "source": [
    "print(yes, no, sus_ignore_no)"
   ]
  },
  {
   "cell_type": "code",
   "execution_count": 11,
   "id": "96a61307-48fb-4690-87b9-1b53b726cf57",
   "metadata": {},
   "outputs": [
    {
     "name": "stdout",
     "output_type": "stream",
     "text": [
      "acc: 92.5%\n",
      "sus-ignored acc: 95.00%\n"
     ]
    }
   ],
   "source": [
    "print('acc: {}%'.format(100*yes/(yes+no)))\n",
    "print('sus-ignored acc: {:.2f}%'.format(100*(yes+no-sus_ignore_no)/(yes+no)))"
   ]
  },
  {
   "cell_type": "code",
   "execution_count": null,
   "id": "4ab822e8-dcbf-483b-8bb3-d0c518e78652",
   "metadata": {},
   "outputs": [],
   "source": [
    "def chord_recognize(pitch_cu, return_overtone=False):\n",
    "    '''\n",
    "    大三和弦：有且仅有大三度和五度， 435 435 435 或 75 或 48 39\n",
    "    小三和弦：有且仅有小三度和五度， 345 345 345\n",
    "    大七和弦：存在大七度和大三度， 4341 4341 4341或471\n",
    "    小七和弦：存在小七度和小三度， 3432 3432 3432或732\n",
    "    属七和弦：存在小七度和大三度， 4332 4332 4332或732\n",
    "    增三和弦：存在增五度（小六度）， 444 444 444\n",
    "    减三和弦：存在增四度， 326 326 326或\n",
    "    挂留2和弦：存在二度但不存在三度， 255 255 255\n",
    "    挂留4和弦：存在四度但不存在三度， 525 525 525\n",
    "    '''\n",
    "    in_chord_pitchs = [i[1:] for i in pitch_cu.split()][-4:]\n",
    "    pitchs = list(set(in_chord_pitchs))\n",
    "    singles = list(np.sort([str2midi(i) for i in pitchs]))\n",
    "    print(singles)\n",
    "    _ = singles\n",
    "    singles.extend([i + 12 for i in _])\n",
    "    singles.extend([i + 24 for i in _])\n",
    "    \n",
    "    delta_singles = []\n",
    "    for i in range(len(singles)):\n",
    "        if i > 0:\n",
    "            delta_singles.append(singles[i] - singles[i-1])\n",
    "    inverts = delta_singles\n",
    "    feasure = ''\n",
    "    for num in delta_singles:\n",
    "        feasure += str(num)\n",
    "    def ifin(str1):\n",
    "        strlen = len(str1)\n",
    "        newstrs = []\n",
    "        for i in range(len(str1)):\n",
    "            str1 = str1[1:] + str1[0]\n",
    "            newstrs.append(str1)\n",
    "        for newstr in newstrs:\n",
    "            if newstr in feasure:\n",
    "                return True\n",
    "        return False\n",
    "    print(feasure)\n",
    "    chord_type = 'NotChord'\n",
    "    chordchar = 'NotChord'\n",
    "    if ifin('255'): #当一阶差分只有5半音和2半音时 说明是挂2\n",
    "        chord_type = 'sus2'\n",
    "        \n",
    "        chordchar = midi2str(singles[feasure.index('2')])[1:]#2 前面的音符是挂2的根音\n",
    "\n",
    "    elif ifin('336'):\n",
    "        chord_type =  'dim'\n",
    "        chordchar = midi2str(singles[feasure.index('6')+1])[1:]#6后面的是根音\n",
    "    elif ifin('444'): #aug时返回最低的音\n",
    "        chord_type = 'aug'\n",
    "        chordchar = in_chord_pitchs[0]\n",
    "    #七和弦组：\n",
    "    \n",
    "    if ifin('2') or ifin('1'): \n",
    "        #属七：\n",
    "        if ifin('4332') or ifin('246'):\n",
    "            chord_type = '7'\n",
    "            chordchar = midi2str(singles[feasure.index('4')])[1:] #4前面\n",
    "        #小七：              \n",
    "        elif ifin('3432') or ifin('723') or ifin('732'):\n",
    "            chord_type = 'm7'\n",
    "            chordchar = midi2str(singles[feasure.index('2')+1])[1:] #2后面\n",
    "        elif ifin('4341') or ifin('471') or ifin('741'):\n",
    "            chord_type = 'maj7'\n",
    "            chordchar = midi2str(singles[feasure.index('1')+1])[1:] #1后面\n",
    "    #三和弦组：\n",
    "    else:\n",
    "        if ifin('345') or ifin('39'):\n",
    "            chord_type = 'm'\n",
    "            chordchar = midi2str(singles[feasure.index('3')])[1:] #3前面\n",
    "        elif ifin('435') or ifin('75'):\n",
    "            chord_type = 'maj'\n",
    "            chordchar = midi2str(singles[feasure.index('5')+1])[1:] #5后面\n",
    "        elif ifin('48') :\n",
    "            chord_type = 'maj'\n",
    "            chordchar = midi2str(singles[feasure.index('4')])[1:] #4前面\n",
    "    if return_overtone == True:\n",
    "        return [chord_type, singles]\n",
    "    else:\n",
    "        return chordchar, chord_type\n",
    "    \n",
    "  "
   ]
  },
  {
   "cell_type": "code",
   "execution_count": 13,
   "id": "678c7ae6-578b-4ba1-833d-be73d4be134f",
   "metadata": {},
   "outputs": [],
   "source": [
    "def root_detect(measure, tune=[0, 0, 0, 0, 0, 0]):\n",
    "    '''\n",
    "    根音和旋律音检测\n",
    "    measure:一个三个元素的list，分别是小节内的所有音、指法、时间\n",
    "    '''\n",
    "    pitchs, fingers, times = measure[0], measure[1], measure[2] #分别代表音高、指法、时间\n",
    "\n",
    "    pitchnum = len(pitchs)\n",
    "    indexlist = list(np.ones((1, pitchnum)))\n",
    "    #print('待检测的音为{}'.format(pitchs))\n",
    "    roots = [] \n",
    "    melodys = []\n",
    "    root_thr = 5\n",
    "    \n",
    "    #设置根音门槛\n",
    "    allfingers = []\n",
    "    for finger in fingers:\n",
    "        allfingers.extend(finger.split())\n",
    "    rootcount = 0\n",
    "    for finger in allfingers:\n",
    "        if int(finger[1]) >= 5:\n",
    "            rootcount += 1\n",
    "    if rootcount <= 1:\n",
    "        root_thr = 4\n",
    "\n",
    "            \n",
    "    \n",
    "    \n",
    "    \n",
    "    \n",
    "    \n",
    "    for i in range(pitchnum):  #该小节内的第i个音\n",
    "        multi = 0\n",
    "        pitch_cu = pitchs[i].split()\n",
    "        finger_cu = fingers[i].split()\n",
    "        if len(pitch_cu) >= 2:\n",
    "            multi = 1\n",
    "        \n",
    "        melody, root = 0, 0\n",
    "        if 'R' not in finger_cu[0]:\n",
    "            for k in range(len(finger_cu)):\n",
    "                finger_cu[i] = midi2finger(finger2midi(finger_cu[i]), tune=tune)[-1]\n",
    "            if (int(finger_cu[0][1]) <= 3) or (multi == 1) :  #当音簇最高音在1或2弦，或者音簇为多音时\n",
    "                #melody = finger2midi(finger_cu[0])  \n",
    "                indexlist[i] += 10\n",
    "                #melody = str2midi(pitch_cu[0])\n",
    "                #print('    旋律音:{}, 其midi值为{}, 在{}'.format(midi2str(int(melody)), melody, finger_cu[0]))\n",
    "            if (int(finger_cu[-1][1]) >= root_thr):  #当音簇最低音在5或6弦时\n",
    "                #root = str2midi(pitch_cu[-1]) \n",
    "                indexlist[i] -= 1\n",
    "                #print('    根音:{}, 其midi值{}, 在{}'.format(midi2str(int(root)), root, finger_cu[-1]))\n",
    "            #print('---------------')\n",
    "        # roots.append(midi2str(int(root)))      \n",
    "        # melodys.append(midi2str(int(melody)))\n",
    "    #return [melodys, roots]  #返回该小节内所有满足条件的根音和旋律音\n",
    "    return indexlist"
   ]
  },
  {
   "cell_type": "code",
   "execution_count": null,
   "id": "6ed5ca7d-0071-4a21-b932-a31bff7a3cdf",
   "metadata": {},
   "outputs": [],
   "source": [
    "print(yes, no)"
   ]
  },
  {
   "cell_type": "code",
   "execution_count": null,
   "id": "cb38c83c-c148-461e-966f-5a1037c2d3f0",
   "metadata": {},
   "outputs": [],
   "source": [
    "print(cp[0][3][5])"
   ]
  },
  {
   "cell_type": "code",
   "execution_count": null,
   "id": "f156a30f-0fb6-4841-8dd2-472ba9a911d6",
   "metadata": {},
   "outputs": [],
   "source": [
    "chord_recognize(cp[0][7][2])"
   ]
  },
  {
   "cell_type": "code",
   "execution_count": null,
   "id": "ff4f07a0-9389-4185-844b-3e6526a5fea7",
   "metadata": {},
   "outputs": [],
   "source": [
    "char, _type = chord_recognize('4D 4F 4G#')\n",
    "print(char, _type)"
   ]
  },
  {
   "cell_type": "code",
   "execution_count": null,
   "id": "7794aa80-f458-4d04-8e1d-0d0c52c6ba14",
   "metadata": {},
   "outputs": [],
   "source": [
    "a = '255'\n",
    "a.index('5')"
   ]
  }
 ],
 "metadata": {
  "kernelspec": {
   "display_name": "Python 3 (ipykernel)",
   "language": "python",
   "name": "python3"
  },
  "language_info": {
   "codemirror_mode": {
    "name": "ipython",
    "version": 3
   },
   "file_extension": ".py",
   "mimetype": "text/x-python",
   "name": "python",
   "nbconvert_exporter": "python",
   "pygments_lexer": "ipython3",
   "version": "3.9.7"
  }
 },
 "nbformat": 4,
 "nbformat_minor": 5
}
