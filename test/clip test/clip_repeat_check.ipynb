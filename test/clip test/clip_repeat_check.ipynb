{
 "cells": [
  {
   "cell_type": "code",
   "execution_count": 1,
   "id": "29c92275-8224-4672-99f8-a6f030bee464",
   "metadata": {},
   "outputs": [],
   "source": [
    "from TAB_generator import *\n",
    "import os"
   ]
  },
  {
   "cell_type": "code",
   "execution_count": 2,
   "id": "11cc8a49-52d5-4574-9483-4ca8b4dc0d16",
   "metadata": {},
   "outputs": [
    {
     "name": "stdout",
     "output_type": "stream",
     "text": [
      "#####0. [Air]てんとう虫(瓢虫)_14^21C.xml\n",
      "#####1. [Air]てんとう虫(瓢虫)_2^5I.xml\n",
      "#####2. [Air]てんとう虫(瓢虫)_42^49B.xml\n",
      "#####3. [Air]てんとう虫(瓢虫)_6^13A.xml\n",
      "#####4. [CLANNAD]欢乐岛_1^15I.xml\n",
      "#####5. [CLANNAD]欢乐岛_24^34A.xml\n",
      "#####6. [CLANNAD]欢乐岛_35^42C.xml\n",
      "#####0. [Air]てんとう虫(瓢虫).xml\n",
      "capo 1\n",
      "#####1. [CLANNAD]欢乐岛.xml\n"
     ]
    }
   ],
   "source": [
    "rootpath = os.getcwd()\n",
    "clippath = rootpath + '\\\\clip\\\\'\n",
    "clip_pitch, clip_finger, clip_timesig, cliptune = readTAB(clippath)\n",
    "\n",
    "fullpath = rootpath + '\\\\full\\\\'\n",
    "full_pitch, full_finger, full_timesig, tune = readTAB(fullpath)"
   ]
  },
  {
   "cell_type": "code",
   "execution_count": 9,
   "id": "a66e7369-8a1e-4357-bf52-a95e725f810a",
   "metadata": {},
   "outputs": [],
   "source": [
    "cliptune"
   ]
  },
  {
   "cell_type": "code",
   "execution_count": 22,
   "id": "dc5e881b-8546-46d1-8f09-d8cb119f5a87",
   "metadata": {},
   "outputs": [
    {
     "name": "stdout",
     "output_type": "stream",
     "text": [
      "(['3D-', '3A-', 'R', '3B-', '3D-', '4D-', 'R', '3A-', '3B- 3D-', 'R', '4D-', 'R', '3E- 3D-', '3F', 'R', '3B-'], ['3C', '3G', '3A', '3C', '4C', '3G', '3A 3C', '4C', '3D 3C', '3E', '3A'])\n",
      "(['3D-', '3A-', 'R', '3B-', '3D-', '4D-', 'R', '3A-', '3B- 3D-', 'R', '4D-', 'R', '3E- 3D-', '3F', 'R', '3B-'], ['3C', '3G', '3A', '3C', '4C', '3G', '3A 3C', '4C', '3D 3C', '3E', '3A'])\n",
      "(['3D-', '3A-', 'R', '3B-', '3D-', '4D-', 'R', '3A-', '3B- 3D-', 'R', '4D-', 'R', '3E- 3D-', '3F', 'R', '3B-'], ['3C', '3G', '3A', '3C', '4C', '3G', '3A 3C', '4C', '3D 3C', '3E', '3A'])\n"
     ]
    }
   ],
   "source": [
    "for i in zip(full_pitch[0][2:5], clip_pitch[1]):\n",
    "    print(i)\n",
    "\n",
    "    "
   ]
  },
  {
   "cell_type": "code",
   "execution_count": 7,
   "id": "a5a1f97c-1fe1-41dd-aee9-7ffdf1078f77",
   "metadata": {},
   "outputs": [
    {
     "name": "stdout",
     "output_type": "stream",
     "text": [
      "['3D-', '3A-', 'R', '3B-', '3D-', '4D-', 'R', '3A-', '3B- 3D-', 'R', '4D-', 'R', '3E- 3D-', '3F', 'R', '3B-'] 16\n",
      "['3C', '3G', '3A', '3C', '4C', '3G', '3A 3C', '4C', '3D 3C', '3E', '3A'] 11\n",
      "\n",
      "['3D-', '3A-', 'R', '3B-', '3D-', '4D-', 'R', '3A-', '3B- 3D-', 'R', '4D-', 'R', '3E- 3D-', '3F', 'R', '3B-'] 16\n",
      "['3C', '3G', '3A', '3C', '4C', '3G', '3A 3C', '4C', '3D 3C', '3E', '3A'] 11\n",
      "\n",
      "['3D-', '3A-', 'R', '3B-', '3D-', '4D-', 'R', '3A-', '3B- 3D-', 'R', '4D-', 'R', '3E- 3D-', '3F', 'R', '3B-'] 16\n",
      "['3C', '3G', '3A', '3C', '4C', '3G', '3A 3C', '4C', '3D 3C', '3E', '3A'] 11\n",
      "\n"
     ]
    }
   ],
   "source": [
    "a = full_pitch[0][1:4]\n",
    "b = clip_pitch[1]\n",
    "for i in range(len(a)):\n",
    "    \n",
    "    print(a[i], len(a[i]))\n",
    "    print(b[i], len(b[i]))\n",
    "    print()\n",
    "    "
   ]
  },
  {
   "cell_type": "code",
   "execution_count": 13,
   "id": "a1fbc9dc-924e-40cb-897c-4dce08ebbf0a",
   "metadata": {},
   "outputs": [
    {
     "data": {
      "text/plain": [
       "'てんとう虫'"
      ]
     },
     "execution_count": 13,
     "metadata": {},
     "output_type": "execute_result"
    }
   ],
   "source": [
    "def clipinfo(clipname):\n",
    "    clipname = clipname[:-4]\n",
    "    structure = clipname[-1]\n",
    "    \n",
    "    startbar = int(clipname[clipname.index('_')+1:clipname.index('^')])\n",
    "    endbar = int(clipname[clipname.index('^')+1:-1])\n",
    "    originals = clipname[clipname.index('[')+1:clipname.index(']')]\n",
    "    name = clipname[clipname.index(']')+1:clipname.index('_')]\n",
    "    infodict = {\n",
    "        'originals': originals,\n",
    "        'name': name,\n",
    "        'startbar': startbar,\n",
    "        'endbar': endbar     \n",
    "    }\n",
    "    return infodict\n",
    "def fullinfo(fullname):\n",
    "    originals = fullname[fullname.index('[')+1:fullname.index(']')]\n",
    "    name = fullname[fullname.index(']')+1:-4]\n",
    "    infodict = {\n",
    "        'originals': originals,\n",
    "        'name': name,  \n",
    "    }\n",
    "    return infodict\n",
    "clipinfo('[Air]てんとう虫(瓢虫)_14^21C.xml')['endbar']\n",
    "fullinfo('[Air]てんとう虫(瓢虫)')['name']"
   ]
  },
  {
   "cell_type": "code",
   "execution_count": 9,
   "id": "e379ef9f-7d23-4a98-b8ae-fa49d0edb287",
   "metadata": {},
   "outputs": [
    {
     "name": "stdout",
     "output_type": "stream",
     "text": [
      "['[Air]てんとう虫(瓢虫).xml', '[CLANNAD]欢乐岛.xml']\n",
      "#####0. [Air]てんとう虫(瓢虫).xml\n",
      "capo 1\n",
      "#####1. [CLANNAD]欢乐岛.xml\n",
      "#####0. [Air]てんとう虫(瓢虫)_14^21C.xml\n",
      "#####1. [Air]てんとう虫(瓢虫)_2^5I.xml\n",
      "#####2. [Air]てんとう虫(瓢虫)_42^49B.xml\n",
      "#####3. [Air]てんとう虫(瓢虫)_6^13A.xml\n",
      "#####4. [CLANNAD]欢乐岛_1^15I.xml\n",
      "#####5. [CLANNAD]欢乐岛_24^34A.xml\n",
      "#####6. [CLANNAD]欢乐岛_35^42C.xml\n"
     ]
    }
   ],
   "source": [
    "clip_files = os.listdir(clippath)\n",
    "full_files = os.listdir(fullpath)\n",
    "print(full_files)\n",
    "fp, ff, ft, tune = readTAB(fullpath)\n",
    "cp, cf, ct, tune = readTAB(clippath)"
   ]
  },
  {
   "cell_type": "code",
   "execution_count": 28,
   "id": "b18bb5ca-9803-44cd-aa0e-e716f6644683",
   "metadata": {},
   "outputs": [
    {
     "name": "stdout",
     "output_type": "stream",
     "text": [
      "Air てんとう虫(瓢虫)\n",
      "8\n",
      "8\n",
      "\n",
      "4\n",
      "4\n",
      "\n",
      "0\n",
      "8\n",
      "\n",
      "8\n",
      "8\n",
      "\n",
      "CLANNAD 欢乐岛\n",
      "15\n",
      "15\n",
      "\n",
      "11\n",
      "11\n",
      "\n",
      "8\n",
      "8\n",
      "\n"
     ]
    }
   ],
   "source": [
    "for i, fullsong in enumerate(fp):\n",
    "    \n",
    "    info = fullinfo(full_files[i])\n",
    "    originals, name = info['originals'], info['name']\n",
    "    print(originals, name)\n",
    "    \n",
    "    cliplist = []\n",
    "    clipduration = []\n",
    "    for j, clip in enumerate(clip_files):\n",
    "        info = clipinfo(clip)\n",
    "        if info['originals'] == originals and info['name'] == name:\n",
    "            cliplist.append(cp[j])\n",
    "            start, end = info['startbar'], info['endbar']\n",
    "            clipduration.append((start, end))\n",
    "    for q, (start, end) in enumerate(clipduration):\n",
    "        print(len(fp[i][start-1:end]))\n",
    "        print(len(cliplist[q]))\n",
    "        print()\n",
    "        \n",
    "\n",
    "        "
   ]
  },
  {
   "cell_type": "code",
   "execution_count": 29,
   "id": "1aa04832-fb5c-4ca5-a514-0651bfa348f4",
   "metadata": {},
   "outputs": [
    {
     "name": "stdout",
     "output_type": "stream",
     "text": [
      "31\n"
     ]
    }
   ],
   "source": [
    "print(len(fp[0]))"
   ]
  }
 ],
 "metadata": {
  "kernelspec": {
   "display_name": "Python 3 (ipykernel)",
   "language": "python",
   "name": "python3"
  },
  "language_info": {
   "codemirror_mode": {
    "name": "ipython",
    "version": 3
   },
   "file_extension": ".py",
   "mimetype": "text/x-python",
   "name": "python",
   "nbconvert_exporter": "python",
   "pygments_lexer": "ipython3",
   "version": "3.9.7"
  }
 },
 "nbformat": 4,
 "nbformat_minor": 5
}
