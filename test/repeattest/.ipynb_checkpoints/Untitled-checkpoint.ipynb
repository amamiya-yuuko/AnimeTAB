{
 "cells": [
  {
   "cell_type": "code",
   "execution_count": 1,
   "id": "4b6e9dd4-a9dc-4738-a7ff-11b0dab0e7db",
   "metadata": {},
   "outputs": [],
   "source": [
    "import os\n",
    "import numpy as np\n",
    "from xml.dom import minidom\n",
    "from xml.dom.minidom import parse\n",
    "from TAB_generator import *"
   ]
  },
  {
   "cell_type": "code",
   "execution_count": 39,
   "id": "ffcecb5d-5530-4456-9cba-b58926b91900",
   "metadata": {},
   "outputs": [
    {
     "name": "stdout",
     "output_type": "stream",
     "text": [
      "21\n",
      "None\n"
     ]
    }
   ],
   "source": [
    "\n",
    "print(clipinfo('[Air]てんとう虫(瓢虫)_14^21C.xml')['endbar'])\n",
    "print((fullinfo('てんとう虫(瓢虫)')['original']))"
   ]
  },
  {
   "cell_type": "code",
   "execution_count": 25,
   "id": "398557ad-8fc1-4b43-95a6-fd36f7be726d",
   "metadata": {},
   "outputs": [],
   "source": [
    "text = 'てんとう虫(瓢虫)'\n",
    "text.split(']')"
   ]
  },
  {
   "cell_type": "code",
   "execution_count": 25,
   "id": "6bfc6179-4ae9-4e94-9c31-9fcd8da1c86c",
   "metadata": {},
   "outputs": [
    {
     "data": {
      "text/plain": [
       "['てんとう虫(瓢虫)']"
      ]
     },
     "execution_count": 25,
     "metadata": {},
     "output_type": "execute_result"
    }
   ],
   "source": [
    "song0.info\n"
   ]
  },
  {
   "cell_type": "code",
   "execution_count": 129,
   "id": "22269ed7-547c-41f2-9efd-1911884c7c35",
   "metadata": {},
   "outputs": [],
   "source": [
    "class TABinfo:\n",
    "    def __init__(self, beat=4, beat_type=4, capo=0, tuning=[0,0,0,0,0,0], original=None, name=None):\n",
    "        self.beat = beat\n",
    "        self.beat_type = beat_type\n",
    "        self.capo = capo\n",
    "        self.tuning = tuning\n",
    "        self.original = original\n",
    "        self.name = name\n",
    "    def showinfo(self):\n",
    "        infodict = {\n",
    "            'beat': int(self.beat),\n",
    "            'beat_type': int(self.beat_type),\n",
    "            'capo': self.capo,\n",
    "            'tuning': self.tuning,\n",
    "            'original': self.original,\n",
    "            'name': self.name\n",
    "        }\n",
    "        print(infodict)\n",
    "class Tablature:\n",
    "    def __init__(self, pitch, finger, time, info=None):\n",
    "        self.pitch = pitch #该歌曲的音符，每个小节为一个list，所有小节组合成一个大list\n",
    "        self.finger = finger #指法\n",
    "        self.time = time #时值\n",
    "        self.info = info\n",
    "    def choose_measure(self, measurenum):\n",
    "        '''\n",
    "        check the given measure number()\n",
    "        =============================\n",
    "        measurenum: int or list\n",
    "        the measure number you want to check\n",
    "        '''\n",
    "        if isinstance(measurenum, int):\n",
    "            measure = Tablature(pitch=self.pitch[measurenum],\n",
    "                                finger=self.finger[measurenum],\n",
    "                                time=self.time[measurenum],\n",
    "                                info=self.info\n",
    "                               )\n",
    "            return measure\n",
    "        elif isinstance(measurenum, (list, tuple)):\n",
    "            measure = Tablature(pitch=self.pitch[measurenum[0]:measurenum[1]],\n",
    "                                finger=self.finger[measurenum[0]:measurenum[1]],\n",
    "                                time=self.time[measurenum[0]:measurenum[1]],\n",
    "                                info = self.info)\n",
    "            return measure\n",
    "        else:\n",
    "            raise Exception('Input Error: input should be int or list, but {}'.format(measurenum, type(measurenum)))\n",
    "    def vectorization(self, division=16):\n",
    "        measurenum = len(self.pitch)\n",
    "        measurelist = []\n",
    "        for i in range(measurenum):\n",
    "            measurelist.append(self.choose_measure(i))\n",
    "        \n",
    "        pitchvec, fingervec = [], []\n",
    "        for measure in measurelist:\n",
    "            info = measure.info #\n",
    "            beat = info.beat\n",
    "            pitchseries, fingerseries= [], []\n",
    "            for i, index in enumerate(zip(measure.pitch, measure.finger, measure.time)):\n",
    "                note = []\n",
    "                finger = []\n",
    "                for i in range(int(index[2] * (division/4))):\n",
    "                    if i == 0:\n",
    "                        note.append(index[0])\n",
    "                        finger.append(index[1])\n",
    "                    else:\n",
    "                        note.append('__')\n",
    "                        finger.append('__')\n",
    "\n",
    "                for notezip in zip(note, finger):\n",
    "                    pitchseries.append(notezip[0])\n",
    "                    fingerseries.append(notezip[1])\n",
    "            pitchvec.append(pitchseries)\n",
    "            fingervec.append(fingerseries)\n",
    "        vecsong = Tablature(pitch=pitchvec, finger=fingervec, time=self.time, info=self.info)\n",
    "        return vecsong\n",
    "    \n",
    "    def root_and_melody(self, clear_zero=True):\n",
    "        '''\n",
    "        根音和旋律音检测\n",
    "        measure:一个三个元素的list，分别是小节内的所有音、指法、时间\n",
    "        '''\n",
    "        \n",
    "        measurenum = len(self.pitch)\n",
    "        measurelist = []\n",
    "        for i in range(measurenum):\n",
    "            measurelist.append(self.choose_measure(i))\n",
    "        \n",
    "        readymeasures = []\n",
    "        for measure in measurelist:\n",
    "            \n",
    "            pitchs, fingers, times = measure.pitch, measure.finger, measure.time #分别代表音高、指法、时间\n",
    "            tune, capo = measure.info.tuning, measure.info.capo\n",
    "            pitchnum = len(pitchs)\n",
    "            indexlist = list(np.zeros(pitchnum))\n",
    "            #print('待检测的音为{}'.format(pitchs))\n",
    "            roots = [] \n",
    "            melodys = []\n",
    "            root_thr = 5\n",
    "\n",
    "            #设置根音门槛\n",
    "            allfingers = []\n",
    "            for finger in fingers:\n",
    "                allfingers.extend(finger.split())\n",
    "            rootcount = 0\n",
    "            for finger in allfingers:\n",
    "                if ('R' not in finger) and int(finger[1]) >= 5:\n",
    "                    rootcount += 1\n",
    "            if rootcount <= 1:\n",
    "                root_thr = 4\n",
    "\n",
    "\n",
    "            for i in range(pitchnum):  #该小节内的第i个音\n",
    "\n",
    "                multi = 0\n",
    "                pitch_cu = pitchs[i].split()\n",
    "                finger_cu = fingers[i].split()\n",
    "                if len(pitch_cu) >= 2:\n",
    "                    multi = 1\n",
    "                melody, root = 0, 0\n",
    "                if 'R' not in finger_cu[0]:\n",
    "                    for k in range(len(finger_cu)):\n",
    "                        finger_cu[k] = midi2finger(finger2midi(finger_cu[k],tune=tune,capo=capo), tune=tune, capo=capo)[-1]\n",
    "                    #print('note {}: {}, thr={}'.format(i, finger_cu, root_thr))\n",
    "                    if (int(finger_cu[0][1]) <= 3) or (multi == 1) :  #当音簇最高音在1或2弦，或者音簇为多音时\n",
    "                        #melody = finger2midi(finger_cu[0])  \n",
    "                        indexlist[i] += 10\n",
    "                        melody = str2midi(pitch_cu[0])\n",
    "                        #print('    旋律音:{}, 其midi值为{}, 在{}'.format(midi2str(int(melody)), melody, finger_cu[0]))\n",
    "                    if (int(finger_cu[-1][1]) >= root_thr):  #当音簇最低音在5或6弦时\n",
    "                        root = str2midi(pitch_cu[-1]) \n",
    "                        indexlist[i] += 5\n",
    "                        #print('    根音:{}, 其midi值{}, 在{}'.format(midi2str(int(root)), root, finger_cu[-1]))\n",
    "                    #print('---------------')\n",
    "                # roots.append(midi2str(int(root)))      \n",
    "                # melodys.append(midi2str(int(melody)))\n",
    "            #return [melodys, roots]  #返回该小节内所有满足条件的根音和旋律音\n",
    "\n",
    "            for i in range(pitchnum):\n",
    "                if indexlist[i] == 15:#当根音旋律音都有\n",
    "                    pitchs[i] = pitchs[i].split()[0] + ' '+pitchs[i].split()[-1]\n",
    "                    fingers[i] = fingers[i].split()[0] + ' '+fingers[i].split()[-1]\n",
    "                elif indexlist[i] == 10:#只有旋律音\n",
    "                    pitchs[i] = pitchs[i].split()[0]\n",
    "                elif indexlist[i] == 5:#只有根音\n",
    "                    fingers[i] = fingers[i].split()[-1]\n",
    "            if indexlist[0] == 0:\n",
    "                pitchs[0], fingers[0] = 'R', '(R,R)'\n",
    "            for i in range(len(times)-1, -1, -1):\n",
    "                if indexlist[i] == 0 and i >0:#当二者都没有时：\n",
    "                    times[i-1] += times[i]\n",
    "                    times[i] = 0 #将该时值交给前面\n",
    "                    pitchs[i], fingers[i] = '', ''\n",
    "            #最后清除空元素\n",
    "            if clear_zero:\n",
    "                for i in range(len(times)-1, -1, -1):\n",
    "                    if times[i] == 0:\n",
    "                        pitchs.pop(i)\n",
    "                        fingers.pop(i)\n",
    "                        times.pop(i)\n",
    "\n",
    "            return1 = Tablature(pitch=pitchs, finger=fingers, time=times, info=self.info)\n",
    "            readymeasures.append(return1)\n",
    "            \n",
    "        totalreturn = measure_join(readymeasures)  \n",
    "        return totalreturn\n",
    "    def showall(self):\n",
    "        print('pitch: {}'.format(self.pitch))\n",
    "        print('finger: {}'.format(self.finger))\n",
    "        print('time: {}'.format(self.time))\n",
    "        \n",
    "def readTAB(path, pitchtype='default', show_processing=False, show_tuning=False):\n",
    "    '''\n",
    "    Read a TAB in musicXML form, return the pitch, finger position and note beat\n",
    "    ========\n",
    "    pitchtype: change the text order in tokenized note. For example 'default' for 5C#, and 'music21' for C#5\n",
    "    tune: adjust for special tuning. For example, DADGAD tuning is [-2, 0, 0, 0, -2, -2]\n",
    "    '''\n",
    "    def check_repeat(measurelist):\n",
    "            '''\n",
    "            检查每个小节的反复记号与房子，并记录下来以便展开为时间序列\n",
    "            '''\n",
    "            repeatstart = '1'\n",
    "            repeatend = '2'\n",
    "            repeatmark = list(np.zeros(len(measurelist)))\n",
    "            housemark = list(np.zeros(len(measurelist)))\n",
    "            for num, measure in enumerate(measurelist):\n",
    "                mark = ''\n",
    "                if haveNodes(measure, 'ending'):\n",
    "                    endingNode = measure.getElementsByTagName('ending')\n",
    "                    endingnumber = endingNode[0].getAttribute('number').split(', ')\n",
    "                    mark += ''.join(endingnumber)\n",
    "                    for Node in endingNode:\n",
    "                        if Node.getAttribute('type') == 'start':\n",
    "                            mark += 'a'\n",
    "                        if Node.getAttribute('type') == 'stop':\n",
    "                            mark += 'b'\n",
    "                            mark += Node.getAttribute('times')\n",
    "\n",
    "                housemark[num] = mark   \n",
    "\n",
    "            for num, measure in enumerate(measurelist):\n",
    "                mark = ''    \n",
    "                if haveNodes(measure, 'repeat'):\n",
    "                    repeatNode = measure.getElementsByTagName('repeat')\n",
    "                    for Node in repeatNode:\n",
    "                        if Node.getAttribute('direction') == 'forward':\n",
    "                            mark += 'a'\n",
    "                        if Node.getAttribute('direction') == 'backward':\n",
    "                            mark += 'b'\n",
    "                            mark += Node.getAttribute('times')\n",
    "\n",
    "                repeatmark[num] = mark\n",
    "            return repeatmark, housemark\n",
    "        \n",
    "    def repeater(pitchs, repeatmark, housemark):\n",
    "        '''\n",
    "        Repeat the Da capo measures and process the different ending by given repeatmark\n",
    "        '''\n",
    "        if len([i for i in repeatmark if i != '']) == 0 and len([i for i in housemark if i != '']) == 0:\n",
    "            return pitchs\n",
    "        else:      \n",
    "            play = []\n",
    "            abpair = []\n",
    "            housepair = []\n",
    "            for i in range(len(repeatmark)):\n",
    "                if repeatmark[i] == 'a':\n",
    "                    start = i\n",
    "                if 'b' in str(repeatmark[i]):\n",
    "                    end = i\n",
    "                    times = str(repeatmark[i])[str(repeatmark[i]).index('b')+1:]\n",
    "                    abpair.append((start, end+1, int(times)))\n",
    "\n",
    "            for i in range(len(housemark)):\n",
    "                if 'a' in str(housemark[i]):\n",
    "                    charge = int(housemark[i][:housemark[i].index('a')])\n",
    "\n",
    "                    start = i\n",
    "                if 'b' in str(housemark[i]):\n",
    "                    end = i\n",
    "\n",
    "                    housepair.append((start, end, charge))\n",
    "            ready_for_repeat = pitchs[:abpair[0][0]]\n",
    "\n",
    "            play = []\n",
    "            for j in range(len(abpair)):\n",
    "                repeattime = abpair[j][2]\n",
    "                repeatunit = pitchs[abpair[j][0]:abpair[j][1]]\n",
    "                frag_unit = repeatunit[:housepair[j][0]-abpair[j][0]]\n",
    "\n",
    "                if j < len(abpair)-1:\n",
    "                    singleunit = pitchs[abpair[j][1]:abpair[j+1][0]]\n",
    "                else:\n",
    "                    singleunit = pitchs[abpair[j][1]:]\n",
    "\n",
    "                charge = housepair[j][-1]\n",
    "                for i in range(repeattime):\n",
    "                    if str(i+1) in str(charge):\n",
    "                        for unit in repeatunit:\n",
    "                            play.append(unit)\n",
    "                    elif str(i+1) not in str(charge):\n",
    "                        for unit in frag_unit:\n",
    "                            play.append(unit)\n",
    "                for unit in singleunit:\n",
    "                    play.append(unit)\n",
    "            return play\n",
    "    if path[-2:] != '\\\\':\n",
    "        path += '\\\\'\n",
    "    XML_files = os.listdir(path)\n",
    "    XML_files = [file for file in XML_files if '.xml' in file]\n",
    "\n",
    "    TAB = []\n",
    "    TABobjects = []\n",
    "    for file_num, file in enumerate(XML_files):  \n",
    "        print('#####{}. {}'.format(file_num, file))\n",
    "        infodict = fullinfo(file)\n",
    "        _head = np.zeros((6, 1))\n",
    "        \n",
    "        test_tree = parse(path + file)\n",
    "        test_element = test_tree.documentElement\n",
    "        #***八度变化***\n",
    "        octavechangeNodes = test_element.getElementsByTagName('octave-change')\n",
    "        if len(octavechangeNodes) != 0:\n",
    "            octavechange = int(octavechangeNodes[0].firstChild.data)\n",
    "        else:\n",
    "            octavechange = 0\n",
    "            \n",
    "        #***capo****\n",
    "        capo = 0\n",
    "        if haveNodes(test_element, 'capo'):\n",
    "            capo = int(test_element.getElementsByTagName('capo')[0].firstChild.data)\n",
    "            gl_capo = capo\n",
    "            print('capo {}'.format(capo))\n",
    "            \n",
    "        #***记录调弦信息, 特殊调弦处理***#***\n",
    "        staff_tuning = test_element.getElementsByTagName('staff-tuning')\n",
    "        tunings = [0, 0, 0, 0, 0, 0]\n",
    "        for Node in staff_tuning:\n",
    "            linenum = Node.getAttribute('line')\n",
    "            tuning_octave = Node.getElementsByTagName('tuning-octave')[0].firstChild.data\n",
    "            tuning_step = Node.getElementsByTagName('tuning-step')[0].firstChild.data\n",
    "            tuning_alter = '0'\n",
    "            if haveNodes(Node, 'tuning-alter'):\n",
    "                tuning_alter = Node.getElementsByTagName('tuning-alter')[0].firstChild.data\n",
    "            #print(tuning_octave + tuning_step + tuning_alter)\n",
    "            tunings[int(linenum) - 1] = (str2midi(tuning_octave + tuning_step) + int(tuning_alter))\n",
    "           \n",
    "        standard = [40, 45, 50, 55, 59, 64]\n",
    "        current = [i[1] - i[0] for i in zip(standard, tunings)]\n",
    "        gl_tune = [i+12*octavechange for i in current]\n",
    "        if show_tuning:\n",
    "            print('special tuning:{}, octave-change:{}'.format(gl_tune, octavechange))\n",
    "                    \n",
    "        measures = test_element.getElementsByTagName('measure') #获取所有小节的nodes\n",
    "        beats = getAttr(measures[0], 'beats')  #拍号\n",
    "        beat_type = getAttr(measures[0], 'beat-type')\n",
    "        timesig = []\n",
    "        pitchs = []\n",
    "        timesigs = []\n",
    "        fingers = []\n",
    "    \n",
    "        repeatmark, housemark = check_repeat(measures)\n",
    "        \n",
    "        for measure_num, measure in enumerate(measures):\n",
    "            if show_processing == True:\n",
    "                print('measure {} processing...'.format(measure_num))\n",
    "            #******获得divisions******\n",
    "            if haveNodes(measure, 'divisions'):\n",
    "                divisions = measure.getElementsByTagName('divisions')[0].firstChild.data[0]\n",
    "                divisions = int(divisions)\n",
    "                \n",
    "            parts = get_parts(measure) \n",
    "            partdicts = []\n",
    "            for part_num, part in enumerate(parts):\n",
    "                if show_processing == True:\n",
    "                    print('  part {} processing...'.format(part_num))\n",
    "                partdict = {\n",
    "                  'dictpitch':0, \n",
    "                  'dictfinger':0, \n",
    "                  'dicttime':0\n",
    "                }\n",
    "                #__timesig, __pitch, __finger = tie_clean(part, divisions=divisions, beats=beats)\n",
    "                partdict['dicttime'], partdict['dictpitch'], partdict['dictfinger'] = tie_clean(part, divisions=divisions, beats=beats)\n",
    "                partdicts.append(partdict)\n",
    "                \n",
    "            _pitch, _finger, _total_times = part_integrate(partdicts)\n",
    "            _total_times.append(int(beats))\n",
    "            _timesig = list(np.diff(np.array(_total_times)))\n",
    "            # print('timesig:{}'.format(timesig))\n",
    "            # print('pitch:{}'.format(pitch))\n",
    "            # print('finger:{}'.format(finger))\n",
    "            should = float(beats) / (float(beat_type)//4)\n",
    "            try:\n",
    "                assert abs(sum(_timesig) - should) / should <= 0.05\n",
    "            except:\n",
    "                print('    ! In measure {}, sum of timesig should be {}, but{}'.format(measure_num, should, sum(_timesig)))\n",
    "                                 \n",
    "            assert len(_timesig)==len(_pitch)\n",
    "            assert len(_timesig)==len(_finger)\n",
    "\n",
    "            for i in range(len(_timesig)):\n",
    "                _pitch[i] = str_postprocess(_pitch[i], pitchtype=pitchtype)\n",
    "                _finger[i] = str_postprocess(_finger[i], mode='finger')\n",
    "            timesigs.append(_timesig)\n",
    "            pitchs.append(_pitch)\n",
    "            fingers.append(_finger)\n",
    "        \n",
    "        #根据反复记号的mark来重复写一些小节\n",
    "        #print('repeatmark: {}'.format(repeatmark))\n",
    "        #print('housemark: {}'.format(housemark))\n",
    "        pitchs = repeater(pitchs, repeatmark, housemark)\n",
    "        fingers = repeater(fingers, repeatmark, housemark)\n",
    "        timesigs = repeater(timesigs, repeatmark, housemark)\n",
    "        #print(pitchs)     \n",
    "        info = TABinfo(capo=capo, tuning=gl_tune, original=infodict['original'], name=infodict['name'], beat=beats, beat_type=beat_type)\n",
    "        tab = Tablature(pitch=pitchs, finger=fingers, time=timesigs, info=info)\n",
    "        \n",
    "        TABobjects.append(tab)\n",
    "    return TABobjects\n",
    "\n",
    "def measure_join(measurelist):\n",
    "    '''\n",
    "    join many measure into one Tablature object\n",
    "    '''\n",
    "    pitchlist, timelist, fingerlist = [], [], []\n",
    "    for measure in measurelist:\n",
    "        pitchlist.append(measure.pitch)\n",
    "        fingerlist.append(measure.finger)\n",
    "        timelist.append(measure.time)\n",
    "    \n",
    "    return1 = Tablature(pitch=pitchlist, finger=fingerlist, time=timelist)\n",
    "    return return1\n",
    "\n",
    "def clipinfo(clipname):\n",
    "    clipname = clipname[:-4]\n",
    "    structure = clipname[-1]\n",
    "    \n",
    "    startbar = int(clipname[clipname.index('_')+1:clipname.index('^')])\n",
    "    endbar = int(clipname[clipname.index('^')+1:-1])\n",
    "    originals = clipname[clipname.index('[')+1:clipname.index(']')]\n",
    "    name = clipname[clipname.index(']')+1:clipname.index('_')]\n",
    "    infodict = {\n",
    "        'originals': originals,\n",
    "        'name': name,\n",
    "        'startbar': startbar,\n",
    "        'endbar': endbar     \n",
    "    }\n",
    "    return infodict\n",
    "def fullinfo(fullname):\n",
    "    index = fullname.split(']')\n",
    "    original = index[0][1:]\n",
    "    name = index[-1]\n",
    "    if len(index) == 1:\n",
    "        original=None\n",
    "    infodict = {\n",
    "        'original': original,\n",
    "        'name': name[:-4],  \n",
    "    }\n",
    "    return infodict"
   ]
  },
  {
   "cell_type": "code",
   "execution_count": 130,
   "id": "013d3085-0d3e-4949-b119-bcd11402f88e",
   "metadata": {},
   "outputs": [
    {
     "data": {
      "text/plain": [
       "[[1, 2, 3, 4], [5, 6, 7, 8]]"
      ]
     },
     "execution_count": 130,
     "metadata": {},
     "output_type": "execute_result"
    }
   ],
   "source": [
    "a = [1,2,3,4]\n",
    "b = [5,6,7,8]\n",
    "c = [9, 0, 1,2]\n",
    "measure1 = Tablature(pitch=a, finger=b, time=c)\n",
    "measure2 = Tablature(pitch=b, finger=c, time=a)\n",
    "measure_join([measure1, measure2]).pitch"
   ]
  },
  {
   "cell_type": "code",
   "execution_count": 34,
   "id": "71950ccf-f436-4b0e-bee1-c905d5959de3",
   "metadata": {},
   "outputs": [],
   "source": []
  },
  {
   "cell_type": "code",
   "execution_count": 131,
   "id": "581711a3-c718-4933-8f5a-5ab60e29670e",
   "metadata": {},
   "outputs": [
    {
     "name": "stdout",
     "output_type": "stream",
     "text": [
      "#####0. Empty.xml\n",
      "#####1. [Air]鸟之诗_10^27B.xml\n"
     ]
    }
   ],
   "source": [
    "path = os.getcwd()\n",
    "songs = readTAB(path)"
   ]
  },
  {
   "cell_type": "code",
   "execution_count": 132,
   "id": "4b8be2a5-806c-489a-adfc-5d18075719c0",
   "metadata": {},
   "outputs": [
    {
     "name": "stdout",
     "output_type": "stream",
     "text": [
      "['4E 2G', '__', '__', '__', '4E', '__', '4D 2G', '4E 2G', '__', '__', '3D', '__', '3A', '__', '3B', '__']\n",
      "['4C 2A', '__', '3B', '__', '4D 2A', '__', '4E 2A', '__', '4G 3D', '__', '4E', '__', '3B', '__', '4C', '__']\n",
      "['3B 2A', '__', '__', '__', '3B', '__', '3A 2A', '3E 2A', '__', '__', '2F#', '__', '2A', '__', '__', '__']\n"
     ]
    }
   ],
   "source": [
    "birdsong = songs[1]\n",
    "for i in birdsong.vectorization().pitch[:3]:\n",
    "    print(i)"
   ]
  },
  {
   "cell_type": "code",
   "execution_count": 133,
   "id": "713f4534-330d-4d40-8788-6f8a782a347d",
   "metadata": {},
   "outputs": [
    {
     "data": {
      "text/plain": [
       "[['4E 2G', '4E', '4D 2G', '4E 2G', '3A', '3B'],\n",
       " ['4C 2A', '3B', '4D 2A', '4E 2A', '4G', '4E', '3B', '4C'],\n",
       " ['3B 2A', '3B', '3A 2A', '3E 2A', '2F#', '2A'],\n",
       " ['4A', '4E', '3A', '3B', '4C', '4G'],\n",
       " ['4E 2G', '4E', '4D 2G', '4E 2G', '3A', '3B'],\n",
       " ['4C 2A', '3B', '4D 2A', '4E 2A', '4G', '4E', '4G 2E', '5C'],\n",
       " ['4B 2A', '4A', '3G', '4E', '2A', '2B', '4D'],\n",
       " ['4E', '4G', '4A', '4B'],\n",
       " ['4E 2G', '4E', '4D 2G', '4E 2G', '3A', '3B'],\n",
       " ['4C 2A', '3B', '4D 2A', '4E 2A', '4G', '4E', '3B', '4C'],\n",
       " ['3B 2A', '3B', '3A', '2F#', '2A'],\n",
       " ['3G', '4E', '3B', '3A', '3B', '4C', '4G'],\n",
       " ['4E 2G', '4E', '4D 2G', '4E 2G', '3A', '3B'],\n",
       " ['4C 2A', '3B', '4D 2A', '4E 2A', '4G', '4E', '4G 2E', '5C'],\n",
       " ['4B 2A', '3G', '4C', '4E', '3B', '3G', '2B'],\n",
       " ['4A 3C', '4C', '3B', '4C', '4D', '4E', '4A', '5C'],\n",
       " ['4B 2A', '3G', '4C', '4E', '3B', '3G', '3D', '3B'],\n",
       " ['4A 2A', '3G', '3B', '4C', '4D', '3B', '3G']]"
      ]
     },
     "execution_count": 133,
     "metadata": {},
     "output_type": "execute_result"
    }
   ],
   "source": [
    "root_melody = birdsong.root_and_melody()\n",
    "root_melody.pitch"
   ]
  },
  {
   "cell_type": "code",
   "execution_count": 77,
   "id": "c1d13182-5352-49ae-bc3c-1ce85fb5f967",
   "metadata": {},
   "outputs": [
    {
     "name": "stdout",
     "output_type": "stream",
     "text": [
      "['4E 2G', '__', '__', '__', '4E', '__', '4D 2G', '4E 2G', '__', '__', '3D', '__', '3A', '__', '3B', '__']\n"
     ]
    }
   ],
   "source": [
    "\n",
    "testmeasure = songs[1].measure(0)\n",
    "pitchvec, fingervec = vectorization(testmeasure)\n",
    "print(pitchvec)"
   ]
  },
  {
   "cell_type": "code",
   "execution_count": 31,
   "id": "4eac5c84-248c-4d63-8954-b7e50f268740",
   "metadata": {},
   "outputs": [
    {
     "name": "stdout",
     "output_type": "stream",
     "text": [
      "#####0. Empty.xml\n",
      "[['2E', '2F', '2F#', '2G'], ['2A', '2A#', '2B', '3C'], ['2E', '2F', '2F#', '2G'], ['2A', '2A#', '2B', '3C'], ['2E', '2F', '2F#', '2G'], ['3D', '3D#', '3E', '3F']]\n",
      "!!!\n",
      "0\n"
     ]
    }
   ],
   "source": [
    "\n",
    "path = os.getcwd()\n",
    "songs = readTAB(path)"
   ]
  },
  {
   "cell_type": "code",
   "execution_count": 43,
   "id": "6b38eb08-36ee-4697-aca1-07bb6cb5a108",
   "metadata": {},
   "outputs": [
    {
     "data": {
      "text/plain": [
       "[[1.0, 0.5, 0.25, 0.75, 0.5, 0.5, 0.5],\n",
       " [0.5, 0.5, 0.5, 0.5, 0.5, 0.5, 0.5, 0.5],\n",
       " [1.0, 0.5, 0.25, 0.75, 0.5, 1.0],\n",
       " [0.5, 1.0, 1.0, 0.5, 0.5, 0.5],\n",
       " [1.0, 0.5, 0.25, 0.75, 0.5, 0.5, 0.5],\n",
       " [0.5, 0.5, 0.5, 0.5, 0.5, 0.5, 0.5, 0.5],\n",
       " [0.75, 0.25, 0.5, 1.0, 0.5, 0.5, 0.5],\n",
       " [1.0, 1.0, 1.0, 1.0],\n",
       " [1.0, 0.5, 0.25, 0.75, 0.5, 0.5, 0.5],\n",
       " [0.5, 0.5, 0.5, 0.5, 0.5, 0.5, 0.5, 0.5],\n",
       " [0.5, 0.5, 0.5, 0.25, 0.75, 0.5, 0.5, 0.5],\n",
       " [0.5, 0.5, 0.5, 1.0, 0.5, 0.5, 0.5],\n",
       " [1.0, 0.5, 0.25, 0.75, 0.5, 0.5, 0.5],\n",
       " [0.5, 0.5, 0.5, 0.5, 0.5, 0.5, 0.5, 0.5],\n",
       " [0.5, 0.5, 0.5, 0.5, 0.5, 0.5, 0.5, 0.5],\n",
       " [0.5, 0.5, 0.5, 0.5, 0.5, 0.5, 0.5, 0.5],\n",
       " [0.5, 0.5, 0.5, 0.5, 0.5, 0.5, 0.5, 0.5],\n",
       " [0.5, 0.5, 0.25, 0.25, 1.0, 0.5, 1.0]]"
      ]
     },
     "execution_count": 43,
     "metadata": {},
     "output_type": "execute_result"
    }
   ],
   "source": [
    "songs[1].time"
   ]
  },
  {
   "cell_type": "code",
   "execution_count": 45,
   "id": "3d33e08a-c48a-4508-a397-6a5d9ebd0f04",
   "metadata": {},
   "outputs": [
    {
     "data": {
      "text/plain": [
       "['2E', '2F', '2F#', '2G']"
      ]
     },
     "execution_count": 45,
     "metadata": {},
     "output_type": "execute_result"
    }
   ],
   "source": [
    "melody1 = root_detect(measure1_3)\n",
    "melody1.pitch"
   ]
  },
  {
   "cell_type": "code",
   "execution_count": null,
   "id": "784a685e-e4a2-4111-aead-ce0130d0cd8e",
   "metadata": {},
   "outputs": [],
   "source": [
    "pitchs = []\n",
    "pitchs.append(['OOOOOO'])\n",
    "pitchs.append(['PPPPPP'])\n",
    "pitchs.append(['QQQQQQ'])\n",
    "\n",
    "\n",
    "repeatmarks = check_repeat(measures)\n",
    "print(repeatmarks)\n",
    "repeatpairs = []\n",
    "for marknum, mark in enumerate(repeatmarks):\n",
    "    if 'a' in mark:\n",
    "        start = marknum\n",
    "    if '_' in mark:\n",
    "        housestart = marknum\n",
    "    if 'b' in mark:\n",
    "        end = marknum\n",
    "        times = int(mark[-1])\n",
    "        repeatpairs.append((start, housestart, end, housetimes, times))\n",
    "        "
   ]
  },
  {
   "cell_type": "code",
   "execution_count": null,
   "id": "7b8f09ae-adc4-4757-a98d-057c453b019c",
   "metadata": {},
   "outputs": [],
   "source": [
    "repeatpairs"
   ]
  },
  {
   "cell_type": "code",
   "execution_count": 28,
   "id": "6bd96912-c149-4f99-9326-01a9c8145abe",
   "metadata": {},
   "outputs": [],
   "source": [
    "class ob1:\n",
    "    def __init__(self, arg1=111):\n",
    "        self.arg1 = arg1\n",
    "        \n",
    "    def measure(self):\n",
    "        a = ob1(arg1=2222)\n",
    "        print(a.arg1)\n",
    "        return a\n",
    "        \n",
    "        "
   ]
  },
  {
   "cell_type": "code",
   "execution_count": 29,
   "id": "5b2c954e-ff0a-40ef-9e9c-67de96fa28a4",
   "metadata": {},
   "outputs": [
    {
     "name": "stdout",
     "output_type": "stream",
     "text": [
      "2222\n"
     ]
    },
    {
     "data": {
      "text/plain": [
       "2222"
      ]
     },
     "execution_count": 29,
     "metadata": {},
     "output_type": "execute_result"
    }
   ],
   "source": [
    "q = ob1()\n",
    "x = q.measure()\n",
    "x.arg1"
   ]
  },
  {
   "cell_type": "code",
   "execution_count": null,
   "id": "cb99ea9b-ac34-43dc-85a9-ed6b8a5ab200",
   "metadata": {},
   "outputs": [],
   "source": [
    "pitchs = [['小节1'], ['小节2'], ['小节3'], ['小节4'], ['小节5'], ['小节6']]\n",
    "repeatmark = ['a', 'b3', 0, 'a', 'b3', 0]\n",
    "housemark = [0, '12ab', '3a', 0, '12ab', '3a']\n",
    "\n",
    "play = []\n",
    "\n",
    "repeater(pitchs, repeatmark, housemark)"
   ]
  },
  {
   "cell_type": "code",
   "execution_count": null,
   "id": "1a4867fc-7486-4c43-896d-4cf167879647",
   "metadata": {},
   "outputs": [],
   "source": [
    "p, f, t, tune = readTAB(os.getcwd()+'\\\\')\n",
    "check_repeat(measures)\n",
    "play = repeater(p[0], repeatmark, housemark)\n",
    "for bar in play:\n",
    "    print(bar)\n",
    "    "
   ]
  },
  {
   "cell_type": "code",
   "execution_count": 47,
   "id": "8ae9eae8-5342-439c-9abf-1b07e5ce8067",
   "metadata": {},
   "outputs": [],
   "source": [
    "a = [1,2,3]\n",
    "b = [4,5,6]\n",
    "c = [a, b]\n",
    "d = []\n",
    "for q in c:\n",
    "    d.append([x for x in q])\n",
    "    \n",
    "d"
   ]
  },
  {
   "cell_type": "code",
   "execution_count": 14,
   "id": "4bcced07-ae4f-421e-81ab-3fa7513b64a5",
   "metadata": {},
   "outputs": [
    {
     "name": "stdout",
     "output_type": "stream",
     "text": [
      "empty\n"
     ]
    }
   ],
   "source": [
    "a = ['','','','','','','','']\n",
    "b = [1, '', '', '']\n",
    "if len([i for i in a if i != '']) != 0:\n",
    "    print('not an empty')\n",
    "else:\n",
    "    print('empty')"
   ]
  }
 ],
 "metadata": {
  "kernelspec": {
   "display_name": "Python 3 (ipykernel)",
   "language": "python",
   "name": "python3"
  },
  "language_info": {
   "codemirror_mode": {
    "name": "ipython",
    "version": 3
   },
   "file_extension": ".py",
   "mimetype": "text/x-python",
   "name": "python",
   "nbconvert_exporter": "python",
   "pygments_lexer": "ipython3",
   "version": "3.9.7"
  }
 },
 "nbformat": 4,
 "nbformat_minor": 5
}
